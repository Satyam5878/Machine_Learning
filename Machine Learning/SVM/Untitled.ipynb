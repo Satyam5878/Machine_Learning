{
 "cells": [
  {
   "cell_type": "code",
   "execution_count": 34,
   "metadata": {
    "collapsed": false
   },
   "outputs": [
    {
     "name": "stdout",
     "output_type": "stream",
     "text": [
      "Done\n"
     ]
    }
   ],
   "source": [
    "from sklearn import svm\n",
    "import numpy as np\n",
    "print(\"Done\")"
   ]
  },
  {
   "cell_type": "code",
   "execution_count": 31,
   "metadata": {
    "collapsed": false
   },
   "outputs": [
    {
     "name": "stdout",
     "output_type": "stream",
     "text": [
      "<class 'sklearn.svm.classes.SVC'>\n"
     ]
    }
   ],
   "source": [
    "## binary class classification\n",
    "X = [[0,0],[1,1]]\n",
    "y = [0,1]\n",
    "clf = svm.SVC()\n",
    "print(type(clf))\n",
    "clf = clf.fit(X,y)\n",
    "#print(clf)"
   ]
  },
  {
   "cell_type": "code",
   "execution_count": 16,
   "metadata": {
    "collapsed": false
   },
   "outputs": [
    {
     "name": "stdout",
     "output_type": "stream",
     "text": [
      "[1 1 0]\n"
     ]
    }
   ],
   "source": [
    "print(clf.predict([[2,2],[1,2],[0,0]]))"
   ]
  },
  {
   "cell_type": "code",
   "execution_count": 17,
   "metadata": {
    "collapsed": false
   },
   "outputs": [
    {
     "name": "stdout",
     "output_type": "stream",
     "text": [
      "[[ 0.  0.]\n",
      " [ 1.  1.]]\n",
      "[0 1]\n"
     ]
    }
   ],
   "source": [
    "print(clf.support_vectors_)\n",
    "print(clf.support_)\n"
   ]
  },
  {
   "cell_type": "code",
   "execution_count": 24,
   "metadata": {
    "collapsed": false
   },
   "outputs": [
    {
     "name": "stdout",
     "output_type": "stream",
     "text": [
      "[[ 1.9370957   3.5         0.9370957  -0.37419139]]\n",
      "(1, 4)\n"
     ]
    }
   ],
   "source": [
    "## multi class classification\n",
    "X = [[0],[1],[2],[3]]\n",
    "y = [0,1,2,3]\n",
    "clf = svm.SVC(decision_function_shape = 'ovo')\n",
    "clf.fit(X,y)\n",
    "#print(clf)\n",
    "dec = clf.decision_function([[1]])\n",
    "#print(type(dec))\n",
    "print(dec)\n",
    "print(dec.shape)"
   ]
  },
  {
   "cell_type": "code",
   "execution_count": 25,
   "metadata": {
    "collapsed": false
   },
   "outputs": [
    {
     "name": "stdout",
     "output_type": "stream",
     "text": [
      "(1, 4)\n"
     ]
    }
   ],
   "source": [
    "lin_clf = svm.LinearSVC()\n",
    "lin_clf = lin_clf.fit(X,y)\n",
    "dec_l = lin_clf.decision_function([[1]])\n",
    "print(dec_l.shape)"
   ]
  },
  {
   "cell_type": "code",
   "execution_count": 27,
   "metadata": {
    "collapsed": false
   },
   "outputs": [
    {
     "name": "stdout",
     "output_type": "stream",
     "text": [
      "[ 1.5]\n"
     ]
    }
   ],
   "source": [
    "## regression\n",
    "X = [[0,0],[2,2]]\n",
    "y = [0.5,2.5]\n",
    "clf_r = svm.SVR()\n",
    "clf_r = clf_r.fit(X,y)\n",
    "print(clf_r.predict([[1,1]]))"
   ]
  },
  {
   "cell_type": "code",
   "execution_count": 32,
   "metadata": {
    "collapsed": false
   },
   "outputs": [
    {
     "data": {
      "text/plain": [
       "SVC(C=1.0, cache_size=200, class_weight=None, coef0=0.0,\n",
       "  decision_function_shape='ovr', degree=3, gamma='auto', kernel='rbf',\n",
       "  max_iter=-1, probability=False, random_state=None, shrinking=True,\n",
       "  tol=0.001, verbose=False)"
      ]
     },
     "execution_count": 32,
     "metadata": {},
     "output_type": "execute_result"
    }
   ],
   "source": [
    "## defining own kernel function4\n",
    "## i.e. python function as kernel function\n",
    "def my_kernel(X,Y):\n",
    "    return np.dot(X,Y.T)\n",
    "clf_custom = svm.SVC(kernel=my_kernel)\n",
    "clf.fit(X,y)"
   ]
  },
  {
   "cell_type": "code",
   "execution_count": 37,
   "metadata": {
    "collapsed": false
   },
   "outputs": [
    {
     "data": {
      "text/plain": [
       "array([0, 1])"
      ]
     },
     "execution_count": 37,
     "metadata": {},
     "output_type": "execute_result"
    }
   ],
   "source": [
    "## using gram matrix \n",
    "clf_pre = svm.SVC(kernel='precomputed')\n",
    "gram = np.dot(np.array(X),np.array(X).T)\n",
    "clf_pre.fit(gram,y)\n",
    "\n",
    "clf_pre.predict(gram)"
   ]
  }
 ],
 "metadata": {
  "anaconda-cloud": {},
  "kernelspec": {
   "display_name": "Python [conda root]",
   "language": "python",
   "name": "conda-root-py"
  },
  "language_info": {
   "codemirror_mode": {
    "name": "ipython",
    "version": 3
   },
   "file_extension": ".py",
   "mimetype": "text/x-python",
   "name": "python",
   "nbconvert_exporter": "python",
   "pygments_lexer": "ipython3",
   "version": "3.5.2"
  }
 },
 "nbformat": 4,
 "nbformat_minor": 1
}
