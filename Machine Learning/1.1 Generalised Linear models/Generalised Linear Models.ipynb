{
 "cells": [
  {
   "cell_type": "code",
   "execution_count": 2,
   "metadata": {
    "collapsed": false
   },
   "outputs": [
    {
     "name": "stdout",
     "output_type": "stream",
     "text": [
      "Done\n"
     ]
    }
   ],
   "source": [
    "## importing modules\n",
    "from sklearn import linear_model\n",
    "import numpy as np\n",
    "print(\"Done\")"
   ]
  },
  {
   "cell_type": "code",
   "execution_count": 3,
   "metadata": {
    "collapsed": false
   },
   "outputs": [
    {
     "name": "stdout",
     "output_type": "stream",
     "text": [
      "<class 'sklearn.linear_model.base.LinearRegression'>\n",
      "<class 'sklearn.linear_model.base.LinearRegression'>\n",
      "[ 0.5  0.5]\n"
     ]
    }
   ],
   "source": [
    "## creating linear Regression model\n",
    "\n",
    "# data\n",
    "X = [[0,0],[1,1],[2,2]]\n",
    "y = [0,1,2]\n",
    "\n",
    "reg = linear_model.LinearRegression()\n",
    "print(type(reg))\n",
    "reg = reg.fit(X,y)\n",
    "print(type(reg))\n",
    "print(reg.coef_)\n",
    "#print(reg.__doc__)\n"
   ]
  },
  {
   "cell_type": "code",
   "execution_count": 4,
   "metadata": {
    "collapsed": false
   },
   "outputs": [
    {
     "name": "stdout",
     "output_type": "stream",
     "text": [
      "[ 0.34545455  0.34545455]\n",
      "0.136363636364\n"
     ]
    }
   ],
   "source": [
    "## creating ridge regression model\n",
    "\n",
    "X = np.array([[0,0],[0,0],[1,1]])\n",
    "y = np.array([0,.1,1])\n",
    "\n",
    "reg_ridge = linear_model.Ridge(alpha= 0.5)\n",
    "reg_ridge.fit(X,y)\n",
    "#print(type(reg_ridge))\n",
    "print(reg_ridge.coef_)\n",
    "print(reg_ridge.intercept_)"
   ]
  },
  {
   "cell_type": "code",
   "execution_count": 5,
   "metadata": {
    "collapsed": false
   },
   "outputs": [
    {
     "name": "stdout",
     "output_type": "stream",
     "text": [
      "RidgeCV(alphas=[0.1, 1, 10], cv=None, fit_intercept=True, gcv_mode=None,\n",
      "    normalize=False, scoring=None, store_cv_values=False)\n",
      "0.1\n"
     ]
    }
   ],
   "source": [
    "## creating ridgeCV regression model\n",
    "\n",
    "reg_ridgeCV = linear_model.RidgeCV(alphas=[.1,1,10])\n",
    "reg_ridgeCV.fit([[0,0],[0,0],[1,1]],[0,.1,1])\n",
    "print(reg_ridgeCV)\n",
    "print(reg_ridgeCV.alpha_)"
   ]
  },
  {
   "cell_type": "code",
   "execution_count": 6,
   "metadata": {
    "collapsed": false
   },
   "outputs": [
    {
     "name": "stdout",
     "output_type": "stream",
     "text": [
      "Lasso(alpha=0.1, copy_X=True, fit_intercept=True, max_iter=1000,\n",
      "   normalize=False, positive=False, precompute=False, random_state=None,\n",
      "   selection='cyclic', tol=0.0001, warm_start=False)\n",
      "[ 0.8]\n"
     ]
    }
   ],
   "source": [
    "## creating lasso regression model\n",
    "\n",
    "reg_lasso = linear_model.Lasso(alpha=0.1)\n",
    "reg_lasso = reg_lasso.fit([[0,0],[1,1]],[0,1])\n",
    "\n",
    "print(reg_lasso)\n",
    "print(reg_lasso.predict([[1,1]]))"
   ]
  },
  {
   "cell_type": "code",
   "execution_count": 7,
   "metadata": {
    "collapsed": false
   },
   "outputs": [
    {
     "ename": "TypeError",
     "evalue": "__init__() got an unexpected keyword argument 'apha'",
     "output_type": "error",
     "traceback": [
      "\u001b[0;31m---------------------------------------------------------------------------\u001b[0m",
      "\u001b[0;31mTypeError\u001b[0m                                 Traceback (most recent call last)",
      "\u001b[0;32m<ipython-input-7-a101088187b9>\u001b[0m in \u001b[0;36m<module>\u001b[0;34m()\u001b[0m\n\u001b[0;32m----> 1\u001b[0;31m \u001b[0mlinear_model\u001b[0m\u001b[1;33m.\u001b[0m\u001b[0mLasso\u001b[0m\u001b[1;33m(\u001b[0m\u001b[0mapha\u001b[0m\u001b[1;33m=\u001b[0m\u001b[1;36m0.1\u001b[0m\u001b[1;33m)\u001b[0m\u001b[1;33m\u001b[0m\u001b[0m\n\u001b[0m",
      "\u001b[0;31mTypeError\u001b[0m: __init__() got an unexpected keyword argument 'apha'"
     ]
    }
   ],
   "source": [
    "linear_model.Lasso(apha=0.1)"
   ]
  }
 ],
 "metadata": {
  "anaconda-cloud": {},
  "kernelspec": {
   "display_name": "Python [conda root]",
   "language": "python",
   "name": "conda-root-py"
  },
  "language_info": {
   "codemirror_mode": {
    "name": "ipython",
    "version": 3
   },
   "file_extension": ".py",
   "mimetype": "text/x-python",
   "name": "python",
   "nbconvert_exporter": "python",
   "pygments_lexer": "ipython3",
   "version": "3.5.2"
  }
 },
 "nbformat": 4,
 "nbformat_minor": 1
}
