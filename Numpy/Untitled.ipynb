{
 "cells": [
  {
   "cell_type": "code",
   "execution_count": 17,
   "metadata": {
    "collapsed": false
   },
   "outputs": [
    {
     "name": "stdout",
     "output_type": "stream",
     "text": [
      "Done\n"
     ]
    }
   ],
   "source": [
    "import numpy as np\n",
    "import time\n",
    "print(\"Done\")"
   ]
  },
  {
   "cell_type": "code",
   "execution_count": 3,
   "metadata": {
    "collapsed": true
   },
   "outputs": [],
   "source": [
    "a = np.array([1,2])\n",
    "b = np.array([2,1])\n"
   ]
  },
  {
   "cell_type": "code",
   "execution_count": 4,
   "metadata": {
    "collapsed": false
   },
   "outputs": [
    {
     "name": "stdout",
     "output_type": "stream",
     "text": [
      "4\n"
     ]
    }
   ],
   "source": [
    "## performing dot product\n",
    "dot = 0\n",
    "for e,f in zip(a,b):\n",
    "    dot+=e*f\n",
    "print(dot)"
   ]
  },
  {
   "cell_type": "code",
   "execution_count": 10,
   "metadata": {
    "collapsed": false
   },
   "outputs": [
    {
     "name": "stdout",
     "output_type": "stream",
     "text": [
      "[2 2]\n",
      "4\n",
      "4\n",
      "4\n",
      "4\n"
     ]
    }
   ],
   "source": [
    "## np dot operation\n",
    "print(a*b)\n",
    "print(np.sum(a*b))\n",
    "print((a*b).sum()) # Same as above\n",
    "print(np.dot(a,b)) # Direct function to do dot product of vector\n",
    "print(a.dot(b))"
   ]
  },
  {
   "cell_type": "code",
   "execution_count": 13,
   "metadata": {
    "collapsed": false
   },
   "outputs": [
    {
     "name": "stdout",
     "output_type": "stream",
     "text": [
      "2.2360679775\n",
      "2.2360679775\n"
     ]
    }
   ],
   "source": [
    "## calculate the amplitude of vector\n",
    "amp_a = np.sqrt((a*a).sum())\n",
    "print(amp_a)\n",
    "print(np.linalg.norm(a)) # For finding amplitude\n"
   ]
  },
  {
   "cell_type": "code",
   "execution_count": 16,
   "metadata": {
    "collapsed": false
   },
   "outputs": [
    {
     "name": "stdout",
     "output_type": "stream",
     "text": [
      "0.643501108793\n"
     ]
    }
   ],
   "source": [
    "## calculating the angle\n",
    "cos_theta = a.dot(b)/(np.linalg.norm(a)*np.linalg.norm(b))\n",
    "theta = np.arccos(cos_theta)\n",
    "print(theta)"
   ]
  },
  {
   "cell_type": "code",
   "execution_count": 23,
   "metadata": {
    "collapsed": false
   },
   "outputs": [
    {
     "name": "stdout",
     "output_type": "stream",
     "text": [
      "38.868444125180176\n",
      "38.73688825036035\n",
      "29.511761894318955\n",
      "37.97762486370592\n",
      "29.62350785536093\n",
      "36.25628339647153\n",
      "44.63069676183654\n",
      "31.61138038822688\n",
      "39.72364131938211\n",
      "33.41539546287344\n"
     ]
    }
   ],
   "source": [
    "## comparing the runtime of two maethods of \n",
    "## of dot products (loop, dot methods)\n",
    "\n",
    "x = np.arange(100)\n",
    "y = np.arange(100)\n",
    "for i in range(10):\n",
    "    start = time.time()\n",
    "    for t in range(1,100000):\n",
    "        dot = 0 \n",
    "        for xi,yi in zip(x,y):\n",
    "            dot += xi*yi\n",
    "    dt1 = time.time()-start\n",
    "\n",
    "    start = time.time()\n",
    "    for t in range(1,100000):\n",
    "        result = a.dot(b)\n",
    "    dt2 = time.time()-start\n",
    "\n",
    "    print(dt1/dt2)\n"
   ]
  },
  {
   "cell_type": "code",
   "execution_count": 57,
   "metadata": {
    "collapsed": false
   },
   "outputs": [
    {
     "name": "stdout",
     "output_type": "stream",
     "text": [
      "[[ 0.  0.  0.  0.  0.]\n",
      " [ 0.  0.  0.  0.  0.]\n",
      " [ 0.  0.  0.  0.  0.]\n",
      " [ 0.  0.  0.  0.  0.]]\n",
      "[[ 1.  1.  1.  1.  1.]\n",
      " [ 1.  1.  1.  1.  1.]\n",
      " [ 1.  1.  1.  1.  1.]\n",
      " [ 1.  1.  1.  1.  1.]]\n",
      "[[ 0.17872411  0.12805703  0.72044695  0.61259442  0.73605194]\n",
      " [ 0.18574034  0.94996805  0.00531721  0.0773106   0.48824391]\n",
      " [ 0.22761087  0.17397823  0.00227445  0.32356182  0.49490136]\n",
      " [ 0.7519179   0.62023453  0.36067934  0.02084867  0.98529935]]\n",
      "0.402188054199\n",
      "0.0956880481883\n",
      "[[-1.9035409   0.95710438 -1.51074031  0.40394342 -1.45665125]\n",
      " [-0.54190422  1.33362511  0.09031479 -0.15236163 -0.58009637]\n",
      " [-1.26593447  1.30142052  0.60828776 -0.38715255 -0.1916459 ]\n",
      " [-2.20310975  0.06289167  0.09617909  0.67205799 -0.90788278]]\n",
      "-0.278759769571\n",
      "0.999427045775\n"
     ]
    }
   ],
   "source": [
    "## generating the matrices\n",
    "Z = np.zeros((4,5))\n",
    "print(Z)\n",
    "O = np.ones((4,5))\n",
    "print(O)\n",
    "\n",
    "R = np.random.random((4,5))\n",
    "print(R)\n",
    "\n",
    "print(R.mean())\n",
    "print(R.var())\n",
    "\n",
    "# Gaussian distribution\n",
    "R_ = np.random.randn(4,5)\n",
    "print(R_)\n",
    "print(R_.mean())\n",
    "print(R_.var())"
   ]
  },
  {
   "cell_type": "code",
   "execution_count": 64,
   "metadata": {
    "collapsed": false
   },
   "outputs": [
    {
     "name": "stdout",
     "output_type": "stream",
     "text": [
      "[ 4 10 18]\n",
      "32\n",
      "[[ 5 12]\n",
      " [21 32]]\n",
      "[[19 22]\n",
      " [43 50]]\n",
      "[[ 5  6  7  8]\n",
      " [10 12 14 16]\n",
      " [15 18 21 24]\n",
      " [20 24 28 32]]\n"
     ]
    }
   ],
   "source": [
    "q = np.array([1,2,3])\n",
    "p = np.array([4,5,6])\n",
    "print(p*q) ## element by element multiplication for vector\n",
    "print(p.dot(q)) ## vector dot product\n",
    "\n",
    "a = np.array([[1,2],[3,4]])\n",
    "b = np.array([[5,6],[7,8]])\n",
    "print(a*b)\n",
    "print(a.dot(b))\n",
    "print(np.outer(a,b))"
   ]
  },
  {
   "cell_type": "code",
   "execution_count": 67,
   "metadata": {
    "collapsed": false
   },
   "outputs": [
    {
     "name": "stdout",
     "output_type": "stream",
     "text": [
      "5\n",
      "5\n"
     ]
    }
   ],
   "source": [
    "## trace of array\n",
    "print(np.diag(a).sum())\n",
    "print(np.trace(a))"
   ]
  },
  {
   "cell_type": "code",
   "execution_count": 72,
   "metadata": {
    "collapsed": false
   },
   "outputs": [
    {
     "name": "stdout",
     "output_type": "stream",
     "text": [
      "[[ 0.95345975  0.19634665 -0.0051474 ]\n",
      " [ 0.19634665  1.22666597  0.16068085]\n",
      " [-0.0051474   0.16068085  1.19703137]]\n",
      "(array([ 1.42120783,  0.83173472,  1.12421453]), array([[-0.31880401, -0.82886776, -0.45971973],\n",
      "       [-0.77382155,  0.5076956 , -0.37874185],\n",
      "       [-0.5473246 , -0.23499661,  0.80325113]]))\n",
      "(array([ 0.83173472,  1.12421453,  1.42120783]), array([[ 0.82886776,  0.45971973,  0.31880401],\n",
      "       [-0.5076956 ,  0.37874185,  0.77382155],\n",
      "       [ 0.23499661, -0.80325113,  0.5473246 ]]))\n"
     ]
    }
   ],
   "source": [
    "X = np.random.randn(100,3)\n",
    "cov = np.cov(X.T)            # cov matrix is symmetric matrix\n",
    "print(cov)\n",
    "print(np.linalg.eig(cov))\n",
    "print(np.linalg.eigh(cov))"
   ]
  },
  {
   "cell_type": "code",
   "execution_count": 77,
   "metadata": {
    "collapsed": false
   },
   "outputs": [
    {
     "name": "stdout",
     "output_type": "stream",
     "text": [
      "[  2.22044605e-16   5.00000000e-01]\n",
      "[ 0.   0.5]\n"
     ]
    }
   ],
   "source": [
    "A = np.array([[1,2],[3,4]])\n",
    "b = np.array([1,2])\n",
    "x = np.linalg.inv(A).dot(b)    # solving eq using inverse of matrix\n",
    "print(x)\n",
    "print(np.linalg.solve(A,b))    # solving using solve methods"
   ]
  },
  {
   "cell_type": "code",
   "execution_count": null,
   "metadata": {
    "collapsed": true
   },
   "outputs": [],
   "source": []
  }
 ],
 "metadata": {
  "anaconda-cloud": {},
  "kernelspec": {
   "display_name": "Python [conda root]",
   "language": "python",
   "name": "conda-root-py"
  },
  "language_info": {
   "codemirror_mode": {
    "name": "ipython",
    "version": 3
   },
   "file_extension": ".py",
   "mimetype": "text/x-python",
   "name": "python",
   "nbconvert_exporter": "python",
   "pygments_lexer": "ipython3",
   "version": "3.5.2"
  }
 },
 "nbformat": 4,
 "nbformat_minor": 1
}
