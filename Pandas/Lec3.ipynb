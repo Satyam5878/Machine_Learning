{
 "cells": [
  {
   "cell_type": "code",
   "execution_count": 9,
   "metadata": {
    "collapsed": false
   },
   "outputs": [
    {
     "name": "stdout",
     "output_type": "stream",
     "text": [
      "         Date   Value\n",
      "0  2017-10-31  1426.0\n",
      "1  2017-09-30  1426.0\n",
      "2  2017-08-31  1433.0\n",
      "3  2017-07-31  1439.0\n",
      "4  2017-06-30  1444.0\n"
     ]
    }
   ],
   "source": [
    "import pandas as pd \n",
    "path = 'C:\\\\Users\\\\Aman\\\\Desktop\\\\OtherFolders\\\\Sem7\\\\Topics Of Study\\\\Python\\\\Pandas\\\\ZILLOW-Z77006_ZRIMFRR.csv'\n",
    "df = pd.read_csv('C:\\\\Users\\\\Aman\\\\Desktop\\\\OtherFolders\\\\Sem7\\\\Topics Of Study\\\\Python\\\\Pandas\\\\ZILLOW-Z77006_ZRIMFRR.csv')\n",
    "print(df.head())"
   ]
  },
  {
   "cell_type": "code",
   "execution_count": 6,
   "metadata": {
    "collapsed": false
   },
   "outputs": [
    {
     "name": "stdout",
     "output_type": "stream",
     "text": [
      "Done\n"
     ]
    }
   ],
   "source": [
    "df.to_html('C:\\\\Users\\\\Aman\\\\Desktop\\\\OtherFolders\\\\Sem7\\\\Topics Of Study\\\\Python\\\\Pandas\\\\data.html')\n",
    "print(\"Done\")"
   ]
  },
  {
   "cell_type": "code",
   "execution_count": 12,
   "metadata": {
    "collapsed": false
   },
   "outputs": [
    {
     "name": "stdout",
     "output_type": "stream",
     "text": [
      "             Value\n",
      "Date              \n",
      "2017-10-31  1426.0\n",
      "2017-09-30  1426.0\n",
      "2017-08-31  1433.0\n",
      "2017-07-31  1439.0\n",
      "2017-06-30  1444.0\n"
     ]
    }
   ],
   "source": [
    "df = pd.read_csv(path,index_col=0)\n",
    "print(df.head())"
   ]
  },
  {
   "cell_type": "code",
   "execution_count": 17,
   "metadata": {
    "collapsed": false
   },
   "outputs": [
    {
     "name": "stdout",
     "output_type": "stream",
     "text": [
      "             Value\n",
      "Date              \n",
      "2017-10-31  1426.0\n",
      "2017-09-30  1426.0\n",
      "2017-08-31  1433.0\n",
      "2017-07-31  1439.0\n",
      "2017-06-30  1444.0\n"
     ]
    }
   ],
   "source": [
    "df = pd.read_csv(path,index_col='Date')\n",
    "print(df.head())"
   ]
  },
  {
   "cell_type": "code",
   "execution_count": 19,
   "metadata": {
    "collapsed": false
   },
   "outputs": [
    {
     "name": "stdout",
     "output_type": "stream",
     "text": [
      "            Houstan_HPI\n",
      "Date                   \n",
      "2017-10-31       1426.0\n",
      "2017-09-30       1426.0\n",
      "2017-08-31       1433.0\n",
      "2017-07-31       1439.0\n",
      "2017-06-30       1444.0\n"
     ]
    }
   ],
   "source": [
    "#renaming coloumn name\n",
    "df.columns = ['Houstan_HPI']\n",
    "print(df.head())\n"
   ]
  },
  {
   "cell_type": "code",
   "execution_count": 25,
   "metadata": {
    "collapsed": false
   },
   "outputs": [
    {
     "name": "stdout",
     "output_type": "stream",
     "text": [
      "Done\n"
     ]
    }
   ],
   "source": [
    "#saving csv file without header\n",
    "df.to_csv(''.join(path.split(\"\\\\\")[:-2])+\"newcsv2.csv\",header=False)\n",
    "print(\"Done\")"
   ]
  },
  {
   "cell_type": "code",
   "execution_count": 34,
   "metadata": {
    "collapsed": false
   },
   "outputs": [
    {
     "name": "stdout",
     "output_type": "stream",
     "text": [
      "         Date  Austin_HPI\n",
      "0  2017-10-31      1426.0\n",
      "1  2017-09-30      1426.0\n",
      "2  2017-08-31      1433.0\n",
      "3  2017-07-31      1439.0\n",
      "4  2017-06-30      1444.0\n"
     ]
    }
   ],
   "source": [
    "df2 = pd.read_csv(''.join(path.split(\"\\\\\")[:-2])+\"newcsv2.csv\",names=['Date','Austin_HPI'])\n",
    "print(df2.head())"
   ]
  },
  {
   "cell_type": "code",
   "execution_count": 35,
   "metadata": {
    "collapsed": false
   },
   "outputs": [
    {
     "name": "stdout",
     "output_type": "stream",
     "text": [
      "         date     HPI\n",
      "0  2017-10-31  1426.0\n",
      "1  2017-09-30  1426.0\n",
      "2  2017-08-31  1433.0\n",
      "3  2017-07-31  1439.0\n",
      "4  2017-06-30  1444.0\n"
     ]
    }
   ],
   "source": [
    "df2.rename(columns={'Date':'date','Austin_HPI':'HPI'},inplace=True)\n",
    "print(df2.head())"
   ]
  },
  {
   "cell_type": "code",
   "execution_count": 38,
   "metadata": {
    "collapsed": false
   },
   "outputs": [
    {
     "ename": "ImportError",
     "evalue": "No module named 'Quandl'",
     "output_type": "error",
     "traceback": [
      "\u001b[0;31m---------------------------------------------------------------------------\u001b[0m",
      "\u001b[0;31mImportError\u001b[0m                               Traceback (most recent call last)",
      "\u001b[0;32m<ipython-input-38-c09f308f370c>\u001b[0m in \u001b[0;36m<module>\u001b[0;34m()\u001b[0m\n\u001b[0;32m----> 1\u001b[0;31m \u001b[1;32mimport\u001b[0m \u001b[0mQuandl\u001b[0m\u001b[1;33m\u001b[0m\u001b[0m\n\u001b[0m\u001b[1;32m      2\u001b[0m \u001b[0mprint\u001b[0m\u001b[1;33m(\u001b[0m\u001b[1;34m\"Done\"\u001b[0m\u001b[1;33m)\u001b[0m\u001b[1;33m\u001b[0m\u001b[0m\n",
      "\u001b[0;31mImportError\u001b[0m: No module named 'Quandl'"
     ]
    }
   ],
   "source": [
    "import Quandl\n",
    "print(\"Done\")"
   ]
  }
 ],
 "metadata": {
  "anaconda-cloud": {},
  "kernelspec": {
   "display_name": "Python [conda root]",
   "language": "python",
   "name": "conda-root-py"
  },
  "language_info": {
   "codemirror_mode": {
    "name": "ipython",
    "version": 3
   },
   "file_extension": ".py",
   "mimetype": "text/x-python",
   "name": "python",
   "nbconvert_exporter": "python",
   "pygments_lexer": "ipython3",
   "version": "3.5.2"
  }
 },
 "nbformat": 4,
 "nbformat_minor": 1
}
