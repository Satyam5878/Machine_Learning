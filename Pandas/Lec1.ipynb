{
 "cells": [
  {
   "cell_type": "code",
   "execution_count": 3,
   "metadata": {
    "collapsed": false
   },
   "outputs": [
    {
     "name": "stdout",
     "output_type": "stream",
     "text": [
      "Done\n"
     ]
    }
   ],
   "source": [
    "import pandas as pd\n",
    "\n",
    "#print(\"Done\")"
   ]
  },
  {
   "cell_type": "code",
   "execution_count": 8,
   "metadata": {
    "collapsed": false
   },
   "outputs": [
    {
     "name": "stdout",
     "output_type": "stream",
     "text": [
      "   Bounce_rate  Day  Visitors\n",
      "0           34    1        22\n",
      "1           44    2        35\n",
      "2           65    3        45\n",
      "3           39    4        76\n",
      "4           54    5        66\n",
      "5           78    6        67\n",
      "   Bounce_rate  Day  Visitors\n",
      "0           34    1        22\n",
      "1           44    2        35\n",
      "2           65    3        45\n",
      "3           39    4        76\n",
      "4           54    5        66\n",
      "   Bounce_rate  Day  Visitors\n",
      "1           44    2        35\n",
      "2           65    3        45\n",
      "3           39    4        76\n",
      "4           54    5        66\n",
      "5           78    6        67\n",
      "   Bounce_rate  Day  Visitors\n",
      "4           54    5        66\n",
      "5           78    6        67\n"
     ]
    }
   ],
   "source": [
    "web_stats = {'Day':[1,2,3,4,5,6],\n",
    "             'Visitors':[22,35,45,76,66,67],\n",
    "             'Bounce_rate':[34,44,65,39,54,78]}\n",
    "df = pd.DataFrame(web_stats)\n",
    "print(df)\n",
    "print(df.head())\n",
    "print(df.tail())\n",
    "print(df.tail(2))"
   ]
  },
  {
   "cell_type": "code",
   "execution_count": 6,
   "metadata": {
    "collapsed": false
   },
   "outputs": [
    {
     "name": "stdout",
     "output_type": "stream",
     "text": [
      "     Bounce_rate  Visitors\n",
      "Day                       \n",
      "1             34        22\n",
      "2             44        35\n",
      "3             65        45\n",
      "4             39        76\n",
      "5             54        66\n",
      "6             78        67\n"
     ]
    }
   ],
   "source": [
    "print(df.set_index('Day'))\n"
   ]
  },
  {
   "cell_type": "code",
   "execution_count": 7,
   "metadata": {
    "collapsed": false
   },
   "outputs": [
    {
     "name": "stdout",
     "output_type": "stream",
     "text": [
      "     Bounce_rate  Visitors\n",
      "Day                       \n",
      "1             34        22\n",
      "2             44        35\n",
      "3             65        45\n",
      "4             39        76\n",
      "5             54        66\n",
      "6             78        67\n"
     ]
    }
   ],
   "source": [
    "df.set_index('Day',inplace=True)\n",
    "print(df)"
   ]
  },
  {
   "cell_type": "code",
   "execution_count": 9,
   "metadata": {
    "collapsed": false
   },
   "outputs": [
    {
     "name": "stdout",
     "output_type": "stream",
     "text": [
      "   Bounce_rate  Day  Visitors\n",
      "0           34    1        22\n",
      "1           44    2        35\n",
      "2           65    3        45\n",
      "3           39    4        76\n",
      "4           54    5        66\n",
      "5           78    6        67\n"
     ]
    }
   ],
   "source": [
    "print(df)"
   ]
  },
  {
   "cell_type": "code",
   "execution_count": 12,
   "metadata": {
    "collapsed": false
   },
   "outputs": [
    {
     "name": "stdout",
     "output_type": "stream",
     "text": [
      "<class 'pandas.core.frame.DataFrame'>\n"
     ]
    }
   ],
   "source": [
    "print(type(df.set_index(\"Day\")))"
   ]
  },
  {
   "cell_type": "code",
   "execution_count": 17,
   "metadata": {
    "collapsed": false
   },
   "outputs": [
    {
     "name": "stdout",
     "output_type": "stream",
     "text": [
      "0    1\n",
      "1    2\n",
      "2    3\n",
      "3    4\n",
      "4    5\n",
      "5    6\n",
      "Name: Day, dtype: int64\n",
      "   Day  Visitors\n",
      "0    1        22\n",
      "1    2        35\n",
      "2    3        45\n",
      "3    4        76\n",
      "4    5        66\n",
      "5    6        67\n"
     ]
    }
   ],
   "source": [
    "print(df['Day'])\n",
    "print(df[['Day','Visitors']])"
   ]
  },
  {
   "cell_type": "code",
   "execution_count": 18,
   "metadata": {
    "collapsed": false
   },
   "outputs": [
    {
     "name": "stdout",
     "output_type": "stream",
     "text": [
      "<class 'pandas.core.frame.DataFrame'>\n"
     ]
    }
   ],
   "source": [
    "print(type(df[['Day','Visitors']]))"
   ]
  },
  {
   "cell_type": "code",
   "execution_count": 21,
   "metadata": {
    "collapsed": false
   },
   "outputs": [
    {
     "name": "stdout",
     "output_type": "stream",
     "text": [
      "   Day  Bounce_rate\n",
      "0    1           34\n",
      "1    2           44\n",
      "2    3           65\n",
      "3    4           39\n",
      "4    5           54\n",
      "5    6           78\n"
     ]
    }
   ],
   "source": [
    "print(df.loc[:,['Day','Bounce_rate']])"
   ]
  },
  {
   "cell_type": "code",
   "execution_count": 22,
   "metadata": {
    "collapsed": false
   },
   "outputs": [
    {
     "name": "stdout",
     "output_type": "stream",
     "text": [
      "[[ 1 22]\n",
      " [ 2 35]\n",
      " [ 3 45]\n",
      " [ 4 76]\n",
      " [ 5 66]\n",
      " [ 6 67]]\n"
     ]
    }
   ],
   "source": [
    "import numpy as np\n",
    "print(np.array(df[['Day','Visitors']]))"
   ]
  }
 ],
 "metadata": {
  "anaconda-cloud": {},
  "kernelspec": {
   "display_name": "Python [conda root]",
   "language": "python",
   "name": "conda-root-py"
  },
  "language_info": {
   "codemirror_mode": {
    "name": "ipython",
    "version": 3
   },
   "file_extension": ".py",
   "mimetype": "text/x-python",
   "name": "python",
   "nbconvert_exporter": "python",
   "pygments_lexer": "ipython3",
   "version": "3.5.2"
  }
 },
 "nbformat": 4,
 "nbformat_minor": 1
}
