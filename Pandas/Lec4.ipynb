{
 "cells": [
  {
   "cell_type": "code",
   "execution_count": 2,
   "metadata": {
    "collapsed": false
   },
   "outputs": [
    {
     "name": "stdout",
     "output_type": "stream",
     "text": [
      "Done\n"
     ]
    }
   ],
   "source": [
    "import quandl\n",
    "import pandas as pd\n",
    "print(\"Done\")"
   ]
  },
  {
   "cell_type": "code",
   "execution_count": 3,
   "metadata": {
    "collapsed": false
   },
   "outputs": [],
   "source": [
    "API_KEY = open('API_KEY.txt','r').read()"
   ]
  },
  {
   "cell_type": "code",
   "execution_count": 4,
   "metadata": {
    "collapsed": false
   },
   "outputs": [
    {
     "name": "stdout",
     "output_type": "stream",
     "text": [
      "                Value\n",
      "Date                 \n",
      "1975-01-31  34.527918\n",
      "1975-02-28  35.026256\n",
      "1975-03-31  35.536666\n",
      "1975-04-30  36.074757\n",
      "1975-05-31  36.676178\n"
     ]
    }
   ],
   "source": [
    "#getting data from quandl site using quandl api\n",
    "df = quandl.get('FMAC/HPI_AK')\n",
    "print(df.head())"
   ]
  },
  {
   "cell_type": "code",
   "execution_count": 13,
   "metadata": {
    "collapsed": false
   },
   "outputs": [
    {
     "name": "stdout",
     "output_type": "stream",
     "text": [
      "FMC/HPI_AL\n",
      "FMC/HPI_AK\n",
      "FMC/HPI_AZ\n",
      "FMC/HPI_AR\n",
      "FMC/HPI_CA\n",
      "FMC/HPI_CO\n",
      "FMC/HPI_CT\n",
      "FMC/HPI_DE\n",
      "FMC/HPI_FL\n",
      "FMC/HPI_GA\n",
      "FMC/HPI_HI\n",
      "FMC/HPI_ID\n",
      "FMC/HPI_IL\n",
      "FMC/HPI_IN\n",
      "FMC/HPI_IA\n",
      "FMC/HPI_KS\n",
      "FMC/HPI_KY\n",
      "FMC/HPI_LA\n",
      "FMC/HPI_ME\n",
      "FMC/HPI_MD\n",
      "FMC/HPI_MA\n",
      "FMC/HPI_MI\n",
      "FMC/HPI_MN\n",
      "FMC/HPI_MS\n",
      "FMC/HPI_MO\n",
      "FMC/HPI_MT\n",
      "FMC/HPI_NE\n",
      "FMC/HPI_NV\n",
      "FMC/HPI_NH\n",
      "FMC/HPI_NJ\n",
      "FMC/HPI_NM\n",
      "FMC/HPI_NY\n",
      "FMC/HPI_NC\n",
      "FMC/HPI_ND\n",
      "FMC/HPI_OH\n",
      "FMC/HPI_OK\n",
      "FMC/HPI_OR\n",
      "FMC/HPI_PA\n",
      "FMC/HPI_RI\n",
      "FMC/HPI_SC\n",
      "FMC/HPI_SD\n",
      "FMC/HPI_TN\n",
      "FMC/HPI_TX\n",
      "FMC/HPI_UT\n",
      "FMC/HPI_VT\n",
      "FMC/HPI_VA\n",
      "FMC/HPI_WA\n",
      "FMC/HPI_WV\n",
      "FMC/HPI_WI\n",
      "FMC/HPI_WY\n"
     ]
    }
   ],
   "source": [
    "#getting list of 50 U.S. States\n",
    "fifty_states = pd.read_html(\"https://simple.wikipedia.org/wiki/List_of_U.S._states\")\n",
    "\n",
    "\n",
    "##list of dataframes:\n",
    "#print(fifty_states)\n",
    "\n",
    "##this is dataframe\n",
    "#print(fifty_states[0])\n",
    "\n",
    "##this is abbreviations\n",
    "#print(fifty_states[0][0])\n",
    "\n",
    "for abv in (fifty_states[0][0])[1:]:\n",
    "    print(\"FMC/HPI_\"+str(abv))"
   ]
  }
 ],
 "metadata": {
  "anaconda-cloud": {},
  "kernelspec": {
   "display_name": "Python [conda root]",
   "language": "python",
   "name": "conda-root-py"
  },
  "language_info": {
   "codemirror_mode": {
    "name": "ipython",
    "version": 3
   },
   "file_extension": ".py",
   "mimetype": "text/x-python",
   "name": "python",
   "nbconvert_exporter": "python",
   "pygments_lexer": "ipython3",
   "version": "3.5.2"
  }
 },
 "nbformat": 4,
 "nbformat_minor": 1
}
