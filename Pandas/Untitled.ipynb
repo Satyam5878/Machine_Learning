{
 "cells": [
  {
   "cell_type": "code",
   "execution_count": 48,
   "metadata": {
    "collapsed": false
   },
   "outputs": [
    {
     "name": "stdout",
     "output_type": "stream",
     "text": [
      "Done\n"
     ]
    }
   ],
   "source": [
    "import pandas as pd\n",
    "\n",
    "df1 = pd.DataFrame({'HPI':[80,85,88,85],\n",
    "                    'Int_rate':[2, 3, 2, 2],\n",
    "                    'US_GDP_Thousands':[50, 55, 65, 55]},\n",
    "                   index = [2001, 2002, 2003, 2004])\n",
    "\n",
    "df2 = pd.DataFrame({'HPI':[80,85,88,85],\n",
    "                    'Int_rate':[2, 3, 2, 2],\n",
    "                    'US_GDP_Thousands':[50, 55, 65, 55]},\n",
    "                   index = [2005, 2006, 2007, 2008])\n",
    "\n",
    "df3 = pd.DataFrame({'HPI':[80,85,88,85],\n",
    "                    'Unemployment':[7, 8, 9, 6],\n",
    "                    'Low_tier_HPI':[50, 52, 50, 53]},\n",
    "                   index = [2001, 2002, 2003, 2004])\n",
    "                   \n",
    "                   \n",
    "print(\"Done\")"
   ]
  },
  {
   "cell_type": "code",
   "execution_count": 49,
   "metadata": {
    "collapsed": false
   },
   "outputs": [
    {
     "name": "stdout",
     "output_type": "stream",
     "text": [
      "      HPI  Int_rate  US_GDP_Thousands\n",
      "2001   80         2                50\n",
      "2002   85         3                55\n",
      "2003   88         2                65\n",
      "2004   85         2                55\n",
      "      HPI  Int_rate  US_GDP_Thousands\n",
      "2005   80         2                50\n",
      "2006   85         3                55\n",
      "2007   88         2                65\n",
      "2008   85         2                55\n",
      "      HPI  Low_tier_HPI  Unemployment\n",
      "2001   80            50             7\n",
      "2002   85            52             8\n",
      "2003   88            50             9\n",
      "2004   85            53             6\n"
     ]
    }
   ],
   "source": [
    "print(df1)\n",
    "print(df2)\n",
    "print(df3)"
   ]
  },
  {
   "cell_type": "code",
   "execution_count": 50,
   "metadata": {
    "collapsed": false
   },
   "outputs": [
    {
     "name": "stdout",
     "output_type": "stream",
     "text": [
      "   HPI  Int_rate  US_GDP_Thousands_x  US_GDP_Thousands_y\n",
      "0   80         2                  50                  50\n",
      "1   85         3                  55                  55\n",
      "2   88         2                  65                  65\n",
      "3   85         2                  55                  55\n"
     ]
    }
   ],
   "source": [
    "#merging tabel on column \"HPI\" and \"Int_rate\"\n",
    "df_merge = pd.merge(df1,df2,on=[\"HPI\",\"Int_rate\"])\n",
    "print(df_merge)"
   ]
  },
  {
   "cell_type": "code",
   "execution_count": 51,
   "metadata": {
    "collapsed": false
   },
   "outputs": [
    {
     "name": "stdout",
     "output_type": "stream",
     "text": [
      "   HPI  Int_rate_x  US_GDP_Thousands_x  Int_rate_y  US_GDP_Thousands_y\n",
      "0   80           2                  50           2                  50\n",
      "1   85           3                  55           3                  55\n",
      "2   85           3                  55           2                  55\n",
      "3   85           2                  55           3                  55\n",
      "4   85           2                  55           2                  55\n",
      "5   88           2                  65           2                  65\n"
     ]
    }
   ],
   "source": [
    "#merging dataframe on column \"HPI\"\n",
    "df_merge2 = pd.merge(df1,df2,on=[\"HPI\"])\n",
    "print(df_merge2)"
   ]
  },
  {
   "cell_type": "code",
   "execution_count": 54,
   "metadata": {
    "collapsed": false
   },
   "outputs": [
    {
     "name": "stdout",
     "output_type": "stream",
     "text": [
      "Done\n"
     ]
    }
   ],
   "source": [
    "df1 = pd.DataFrame({'Year':[2001,2002,2003,2004],\n",
    "                    'Int_rate':[2, 3, 2, 2],\n",
    "                    'US_GDP_Thousands':[50, 55, 65, 55]})\n",
    "\n",
    "df2 = pd.DataFrame({'Year':[2001,2003,2004,2005],\n",
    "                    'Int_rate':[2, 3, 2, 2],\n",
    "                    'US_GDP_Thousands':[50, 55, 65, 55]})\n",
    "\n",
    "df3 = pd.DataFrame({'HPI':[80,85,88,85],\n",
    "                    'Unemployment':[7, 8, 9, 6],\n",
    "                    'Low_tier_HPI':[50, 52, 50, 53]})\n",
    "                   \n",
    "                   \n",
    "print(\"Done\")"
   ]
  },
  {
   "cell_type": "code",
   "execution_count": 57,
   "metadata": {
    "collapsed": false
   },
   "outputs": [
    {
     "name": "stdout",
     "output_type": "stream",
     "text": [
      "   Int_rate  US_GDP_Thousands  Year\n",
      "0         2                50  2001\n",
      "1         3                55  2002\n",
      "2         2                65  2003\n",
      "3         2                55  2004\n"
     ]
    }
   ],
   "source": [
    "#joining \n",
    "#df1.set_index('HPI',inplace=True)\n",
    "#df2.set_index('HPI',inplace=True)\n",
    "print(df1)\n",
    "#joined = df1.join(df2)\n",
    "\n",
    "\n",
    "#print(joined)"
   ]
  },
  {
   "cell_type": "code",
   "execution_count": 64,
   "metadata": {
    "collapsed": false
   },
   "outputs": [
    {
     "name": "stdout",
     "output_type": "stream",
     "text": [
      "      Int_rate_x  US_GDP_Thousands_x  Int_rate_y  US_GDP_Thousands_y\n",
      "Year                                                                \n",
      "2001           2                  50           2                  50\n",
      "2003           2                  65           3                  55\n",
      "2004           2                  55           2                  65\n",
      "      Int_rate_x  US_GDP_Thousands_x  Int_rate_y  US_GDP_Thousands_y\n",
      "Year                                                                \n",
      "2001           2                  50         2.0                50.0\n",
      "2002           3                  55         NaN                 NaN\n",
      "2003           2                  65         3.0                55.0\n",
      "2004           2                  55         2.0                65.0\n",
      "        Int_rate_x  US_GDP_Thousands_x  Int_rate_y  US_GDP_Thousands_y\n",
      "Year                                                                  \n",
      "2001.0         2.0                50.0           2                  50\n",
      "2003.0         2.0                65.0           3                  55\n",
      "2004.0         2.0                55.0           2                  65\n",
      "2005.0         NaN                 NaN           2                  55\n",
      "        Int_rate_x  US_GDP_Thousands_x  Int_rate_y  US_GDP_Thousands_y\n",
      "Year                                                                  \n",
      "2001.0         2.0                50.0         2.0                50.0\n",
      "2002.0         3.0                55.0         NaN                 NaN\n",
      "2003.0         2.0                65.0         3.0                55.0\n",
      "2004.0         2.0                55.0         2.0                65.0\n",
      "2005.0         NaN                 NaN         2.0                55.0\n",
      "      Int_rate_x  US_GDP_Thousands_x  Int_rate_y  US_GDP_Thousands_y\n",
      "Year                                                                \n",
      "2001           2                  50           2                  50\n",
      "2003           2                  65           3                  55\n",
      "2004           2                  55           2                  65\n"
     ]
    }
   ],
   "source": [
    "#default merging excludes the missing index column\n",
    "merged = pd.merge(df1,df2,on=\"Year\")\n",
    "merged.set_index(\"Year\",inplace=True)\n",
    "print(merged)\n",
    "\n",
    "#merging like SQL table join - left, right and full join\n",
    "#left:\n",
    "merge_left = pd.merge(df1,df2,on=\"Year\",how=\"left\")\n",
    "merge_left.set_index(\"Year\",inplace=True)\n",
    "print(merge_left)\n",
    "\n",
    "#right:\n",
    "merge_right = pd.merge(df1,df2,on=\"Year\",how=\"right\")\n",
    "merge_right.set_index(\"Year\",inplace=True)\n",
    "print(merge_right)\n",
    "\n",
    "#full or outer:\n",
    "merge_outer = pd.merge(df1,df2,on=\"Year\",how=\"outer\")\n",
    "merge_outer.set_index(\"Year\",inplace=True)\n",
    "print(merge_outer)\n",
    "\n",
    "#inner or default:\n",
    "merge_inner = pd.merge(df1,df2,on=\"Year\",how=\"inner\")\n",
    "merge_inner.set_index(\"Year\",inplace=True)\n",
    "print(merge_inner)\n"
   ]
  }
 ],
 "metadata": {
  "anaconda-cloud": {},
  "kernelspec": {
   "display_name": "Python [conda root]",
   "language": "python",
   "name": "conda-root-py"
  },
  "language_info": {
   "codemirror_mode": {
    "name": "ipython",
    "version": 3
   },
   "file_extension": ".py",
   "mimetype": "text/x-python",
   "name": "python",
   "nbconvert_exporter": "python",
   "pygments_lexer": "ipython3",
   "version": "3.5.2"
  }
 },
 "nbformat": 4,
 "nbformat_minor": 1
}
