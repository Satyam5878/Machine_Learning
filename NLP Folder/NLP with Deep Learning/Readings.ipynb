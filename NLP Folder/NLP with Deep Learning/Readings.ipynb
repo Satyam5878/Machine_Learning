{
 "cells": [
  {
   "cell_type": "markdown",
   "metadata": {},
   "source": [
    "# Date 07/05/2018:"
   ]
  },
  {
   "cell_type": "markdown",
   "metadata": {},
   "source": [
    "\n",
    "NLP with Deep Learning:-\n",
    "\n",
    "Revised old things of linalg.\n",
    "\n",
    "Chapter 1, Prequisites<br>\n",
    "   <p>Linear Algebra http://web.stanford.edu/class/cs224n/readings/cs229-linalg.pdf\n",
    "\n",
    "\n",
    "\n",
    "\n",
    "Constraint Maximiation problem -  http://mat.gsia.cmu.edu/classes/QUANT/NOTES/chap4.pdf"
   ]
  }
 ],
 "metadata": {
  "kernelspec": {
   "display_name": "Python 3",
   "language": "python",
   "name": "python3"
  },
  "language_info": {
   "codemirror_mode": {
    "name": "ipython",
    "version": 3
   },
   "file_extension": ".py",
   "mimetype": "text/x-python",
   "name": "python",
   "nbconvert_exporter": "python",
   "pygments_lexer": "ipython3",
   "version": "3.6.3"
  }
 },
 "nbformat": 4,
 "nbformat_minor": 2
}
