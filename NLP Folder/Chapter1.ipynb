{
 "cells": [
  {
   "cell_type": "code",
   "execution_count": 2,
   "metadata": {
    "collapsed": false
   },
   "outputs": [
    {
     "name": "stdout",
     "output_type": "stream",
     "text": [
      "Hello\n"
     ]
    }
   ],
   "source": [
    "import nltk\n",
    "print(\"Hello\")"
   ]
  },
  {
   "cell_type": "raw",
   "metadata": {},
   "source": []
  },
  {
   "cell_type": "code",
   "execution_count": 3,
   "metadata": {
    "collapsed": false
   },
   "outputs": [
    {
     "name": "stdout",
     "output_type": "stream",
     "text": [
      "Hello\n"
     ]
    }
   ],
   "source": [
    "from nltk.book import *\n",
    "print(\"Hello\")"
   ]
  },
  {
   "cell_type": "markdown",
   "metadata": {},
   "source": [
    "text1.concordance(\"monstrous\")"
   ]
  },
  {
   "cell_type": "code",
   "execution_count": 4,
   "metadata": {
    "collapsed": false
   },
   "outputs": [
    {
     "name": "stdout",
     "output_type": "stream",
     "text": [
      "Displaying 11 of 11 matches:\n",
      "ong the former , one was of a most monstrous size . ... This came towards us , \n",
      "ON OF THE PSALMS . \" Touching that monstrous bulk of the whale or ork we have r\n",
      "ll over with a heathenish array of monstrous clubs and spears . Some were thick\n",
      "d as you gazed , and wondered what monstrous cannibal and savage could ever hav\n",
      "that has survived the flood ; most monstrous and most mountainous ! That Himmal\n",
      "they might scout at Moby Dick as a monstrous fable , or still worse and more de\n",
      "th of Radney .'\" CHAPTER 55 Of the Monstrous Pictures of Whales . I shall ere l\n",
      "ing Scenes . In connexion with the monstrous pictures of whales , I am strongly\n",
      "ere to enter upon those still more monstrous stories of them which are to be fo\n",
      "ght have been rummaged out of this monstrous cabinet there is no telling . But \n",
      "of Whale - Bones ; for Whales of a monstrous size are oftentimes cast up dead u\n"
     ]
    }
   ],
   "source": [
    "text1.concordance(\"monstrous\")"
   ]
  },
  {
   "cell_type": "code",
   "execution_count": 5,
   "metadata": {
    "collapsed": false
   },
   "outputs": [
    {
     "name": "stdout",
     "output_type": "stream",
     "text": [
      "mouldy modifies exasperate abundant wise puzzled trustworthy true lazy\n",
      "subtly domineering passing mean tyrannical singular curious vexatious\n",
      "fearless impalpable uncommon\n"
     ]
    }
   ],
   "source": [
    "text1.similar(\"monstrous\")"
   ]
  },
  {
   "cell_type": "code",
   "execution_count": 6,
   "metadata": {
    "collapsed": false
   },
   "outputs": [
    {
     "name": "stdout",
     "output_type": "stream",
     "text": [
      "am_glad is_pretty a_lucky a_pretty be_glad\n"
     ]
    }
   ],
   "source": [
    "text2.common_contexts([\"monstrous\",\"very\"])"
   ]
  },
  {
   "cell_type": "code",
   "execution_count": 7,
   "metadata": {
    "collapsed": false
   },
   "outputs": [
    {
     "data": {
      "image/png": "[encoded data removed]",
      "text/plain": [
       "<matplotlib.figure.Figure at 0x233897da198>"
      ]
     },
     "metadata": {},
     "output_type": "display_data"
    }
   ],
   "source": [
    "text4.dispersion_plot([\"citizens\", \"democracy\", \"freedom\", \"duties\", \"America\"])"
   ]
  },
  {
   "cell_type": "code",
   "execution_count": 8,
   "metadata": {
    "collapsed": false
   },
   "outputs": [
    {
     "ename": "AttributeError",
     "evalue": "'Text' object has no attribute 'generate'",
     "output_type": "error",
     "traceback": [
      "\u001b[0;31m---------------------------------------------------------------------------\u001b[0m",
      "\u001b[0;31mAttributeError\u001b[0m                            Traceback (most recent call last)",
      "\u001b[0;32m<ipython-input-8-e0816ba18b61>\u001b[0m in \u001b[0;36m<module>\u001b[0;34m()\u001b[0m\n\u001b[0;32m----> 1\u001b[0;31m \u001b[0mtext3\u001b[0m\u001b[1;33m.\u001b[0m\u001b[0mgenerate\u001b[0m\u001b[1;33m(\u001b[0m\u001b[1;33m)\u001b[0m\u001b[1;33m\u001b[0m\u001b[0m\n\u001b[0m",
      "\u001b[0;31mAttributeError\u001b[0m: 'Text' object has no attribute 'generate'"
     ]
    }
   ],
   "source": [
    "text3.generate()"
   ]
  },
  {
   "cell_type": "code",
   "execution_count": null,
   "metadata": {
    "collapsed": false
   },
   "outputs": [],
   "source": [
    "x = 'var'\n",
    "exec(\"%s = %d\"%(x,2))\n",
    "print(var)"
   ]
  },
  {
   "cell_type": "code",
   "execution_count": null,
   "metadata": {
    "collapsed": false
   },
   "outputs": [],
   "source": [
    "print(len(text3))\n"
   ]
  },
  {
   "cell_type": "code",
   "execution_count": 11,
   "metadata": {
    "collapsed": false
   },
   "outputs": [],
   "source": [
    "#print(locals().items())"
   ]
  },
  {
   "cell_type": "code",
   "execution_count": 13,
   "metadata": {
    "collapsed": false
   },
   "outputs": [
    {
     "name": "stdout",
     "output_type": "stream",
     "text": [
      "\n",
      "thought came sworn , slay took woman morning feel go slept . sent nig\n",
      "behold call kill walk drank said\n"
     ]
    }
   ],
   "source": [
    "text3.similar(\"affection\")\n",
    "text3.similar(\"love\")"
   ]
  },
  {
   "cell_type": "code",
   "execution_count": 16,
   "metadata": {
    "collapsed": false
   },
   "outputs": [
    {
     "data": {
      "text/plain": [
       "2789"
      ]
     },
     "execution_count": 16,
     "metadata": {},
     "output_type": "execute_result"
    }
   ],
   "source": [
    "len(sorted(set(text3)))"
   ]
  },
  {
   "cell_type": "code",
   "execution_count": 17,
   "metadata": {
    "collapsed": false
   },
   "outputs": [
    {
     "name": "stdout",
     "output_type": "stream",
     "text": [
      "0.06230453042623537\n"
     ]
    }
   ],
   "source": [
    "print(len(set(text3))/len(text3))"
   ]
  },
  {
   "cell_type": "code",
   "execution_count": 22,
   "metadata": {
    "collapsed": false
   },
   "outputs": [
    {
     "data": {
      "text/plain": [
       "0.009201783612390201"
      ]
     },
     "execution_count": 22,
     "metadata": {},
     "output_type": "execute_result"
    }
   ],
   "source": [
    "100*text1.count(\"love\")/len(text1)\n"
   ]
  },
  {
   "cell_type": "code",
   "execution_count": 25,
   "metadata": {
    "collapsed": false
   },
   "outputs": [
    {
     "name": "stdout",
     "output_type": "stream",
     "text": [
      "704\n",
      "0.015640968673628082\n"
     ]
    }
   ],
   "source": [
    "print(text5.count(\"lol\"))\n",
    "print(text5.count(\"lol\")/(len(text5)))"
   ]
  },
  {
   "cell_type": "code",
   "execution_count": 54,
   "metadata": {
    "collapsed": false
   },
   "outputs": [
    {
     "ename": "AttributeError",
     "evalue": "'dict' object has no attribute 'iteritems'",
     "output_type": "error",
     "traceback": [
      "\u001b[0;31m---------------------------------------------------------------------------\u001b[0m",
      "\u001b[0;31mAttributeError\u001b[0m                            Traceback (most recent call last)",
      "\u001b[0;32m<ipython-input-54-ed9749867877>\u001b[0m in \u001b[0;36m<module>\u001b[0;34m()\u001b[0m\n\u001b[1;32m      6\u001b[0m         \u001b[0mprint\u001b[0m\u001b[1;33m(\u001b[0m\u001b[0mlen\u001b[0m\u001b[1;33m(\u001b[0m\u001b[0mx\u001b[0m\u001b[1;33m)\u001b[0m\u001b[1;33m)\u001b[0m\u001b[1;33m\u001b[0m\u001b[0m\n\u001b[1;32m      7\u001b[0m \"\"\"     \n\u001b[0;32m----> 8\u001b[0;31m \u001b[1;32mfor\u001b[0m \u001b[0mname\u001b[0m\u001b[1;33m,\u001b[0m \u001b[0mval\u001b[0m \u001b[1;32min\u001b[0m \u001b[0mnltk\u001b[0m\u001b[1;33m.\u001b[0m\u001b[0m__dict__\u001b[0m\u001b[1;33m.\u001b[0m\u001b[0miteritems\u001b[0m\u001b[1;33m(\u001b[0m\u001b[1;33m)\u001b[0m\u001b[1;33m:\u001b[0m\u001b[1;33m\u001b[0m\u001b[0m\n\u001b[0m\u001b[1;32m      9\u001b[0m     \u001b[0mprint\u001b[0m\u001b[1;33m(\u001b[0m\u001b[0mname\u001b[0m\u001b[1;33m+\u001b[0m\u001b[1;34m\" \"\u001b[0m\u001b[1;33m+\u001b[0m\u001b[0mval\u001b[0m\u001b[1;33m)\u001b[0m\u001b[1;33m\u001b[0m\u001b[0m\n",
      "\u001b[0;31mAttributeError\u001b[0m: 'dict' object has no attribute 'iteritems'"
     ]
    }
   ],
   "source": [
    "\"\"\"lis = nltk.book.__dict__.iteritems()#[x for x in nltk.book.__dict__]\n",
    "#print(lis)\n",
    "type(lis)\n",
    "for x in lis:\n",
    "    if x.name().startswith(\"text\"):\n",
    "        print(len(x))\n",
    "\"\"\"     \n",
    "for name, val in nltk.__dict__.iteritems(): \n",
    "    print(name+\" \"+val)"
   ]
  },
  {
   "cell_type": "code",
   "execution_count": 43,
   "metadata": {
    "collapsed": false
   },
   "outputs": [
    {
     "name": "stdout",
     "output_type": "stream",
     "text": [
      "{'fsencode': <function _fscodec.<locals>.fsencode at 0x00000233F2766F28>, 'startfile': <built-in function startfile>, 'get_terminal_size': <built-in function get_terminal_size>, 'getenv': <function getenv at 0x00000233F2766D08>, '__package__': '', 'spawnle': <function spawnle at 0x00000233F26510D0>, 'P_NOWAIT': 1, 'strerror': <built-in function strerror>, 'set_handle_inheritable': <built-in function set_handle_inheritable>, 'system': <built-in function system>, 'getcwd': <built-in function getcwd>, 'st': <module 'stat' from 'C:\\\\Program Files\\\\Anaconda3\\\\lib\\\\stat.py'>, 'link': <built-in function link>, 'MutableMapping': <class 'collections.abc.MutableMapping'>, 'getcwdb': <built-in function getcwdb>, 'lseek': <built-in function lseek>, '_unsetenv': <function <lambda> at 0x00000233F2637D90>, 'O_SHORT_LIVED': 4096, 'cpu_count': <built-in function cpu_count>, 'O_TRUNC': 512, 'replace': <built-in function replace>, 'walk': <function walk at 0x00000233F2637620>, 'error': <class 'OSError'>, 'execlp': <function execlp at 0x00000233F2637A60>, 'chdir': <built-in function chdir>, 'get_exec_path': <function get_exec_path at 0x00000233F2637D08>, 'get_handle_inheritable': <built-in function get_handle_inheritable>, 'spawnve': <built-in function spawnve>, 'set_inheritable': <built-in function set_inheritable>, '_Environ': <class 'os._Environ'>, 'fsdecode': <function _fscodec.<locals>.fsdecode at 0x00000233F2651048>, '_wrap_close': <class 'os._wrap_close'>, 'P_WAIT': 0, 'SEEK_SET': 0, 'SEEK_END': 2, 'rmdir': <built-in function rmdir>, 'removedirs': <function removedirs at 0x00000233F2637510>, 'access': <built-in function access>, '_exists': <function _exists at 0x00000233F260BEA0>, 'name': 'nt', 'dup': <built-in function dup>, 'fdopen': <function fdopen at 0x00000233F26511E0>, 'execv': <built-in function execv>, 'O_WRONLY': 1, '_execvpe': <function _execvpe at 0x00000233F2637C80>, 'linesep': '\\r\\n', 'execlpe': <function execlpe at 0x00000233F2637AE8>, 'devnull': 'nul', 'defpath': '.;C:\\\\bin', 'open': <built-in function open>, 'times': <built-in function times>, 'errno': <module 'errno' (built-in)>, 'spawnv': <built-in function spawnv>, 'ftruncate': <built-in function ftruncate>, 'truncate': <built-in function truncate>, 'makedirs': <function makedirs at 0x00000233F262D1E0>, 'waitpid': <built-in function waitpid>, 'isatty': <built-in function isatty>, 'kill': <built-in function kill>, 'utime': <built-in function utime>, 'O_APPEND': 8, 'O_RANDOM': 16, 'supports_bytes_environ': False, 'umask': <built-in function umask>, 'SEEK_CUR': 1, '_DummyDirEntry': <class 'os._DummyDirEntry'>, 'curdir': '.', 'listdir': <built-in function listdir>, 'TMP_MAX': 2147483647, 'F_OK': 0, 'supports_fd': {<built-in function stat>, <built-in function truncate>}, 'X_OK': 1, 'get_inheritable': <built-in function get_inheritable>, '_get_exports_list': <function _get_exports_list at 0x00000233F260BF28>, 'fstat': <built-in function fstat>, 'uname_result': <class 'nt.uname_result'>, '__builtins__': {'BytesWarning': <class 'BytesWarning'>, 'MemoryError': <class 'MemoryError'>, 'Exception': <class 'Exception'>, 'get_ipython': <bound method InteractiveShell.get_ipython of <ipykernel.zmqshell.ZMQInteractiveShell object at 0x00000233F5FA0E48>>, '__package__': '', 'OverflowError': <class 'OverflowError'>, 'ord': <built-in function ord>, 'BrokenPipeError': <class 'BrokenPipeError'>, 'ConnectionAbortedError': <class 'ConnectionAbortedError'>, 'BaseException': <class 'BaseException'>, 'UnicodeTranslateError': <class 'UnicodeTranslateError'>, 'UnicodeWarning': <class 'UnicodeWarning'>, 'bool': <class 'bool'>, 'KeyError': <class 'KeyError'>, 'StopIteration': <class 'StopIteration'>, 'FloatingPointError': <class 'FloatingPointError'>, 'dreload': <function _dreload at 0x00000233F60DE620>, 'property': <class 'property'>, 'round': <built-in function round>, 'frozenset': <class 'frozenset'>, 'copyright': Copyright (c) 2001-2016 Python Software Foundation.\n",
      "All Rights Reserved.\n",
      "\n",
      "Copyright (c) 2000 BeOpen.com.\n",
      "All Rights Reserved.\n",
      "\n",
      "Copyright (c) 1995-2001 Corporation for National Research Initiatives.\n",
      "All Rights Reserved.\n",
      "\n",
      "Copyright (c) 1991-1995 Stichting Mathematisch Centrum, Amsterdam.\n",
      "All Rights Reserved., 'StopAsyncIteration': <class 'StopAsyncIteration'>, 'ValueError': <class 'ValueError'>, 'set': <class 'set'>, 'RuntimeWarning': <class 'RuntimeWarning'>, 'list': <class 'list'>, 'ImportWarning': <class 'ImportWarning'>, 'SyntaxError': <class 'SyntaxError'>, 'iter': <built-in function iter>, 'sum': <built-in function sum>, '__IPYTHON__': True, 'IndentationError': <class 'IndentationError'>, 'input': <bound method Kernel.raw_input of <ipykernel.ipkernel.IPythonKernel object at 0x00000233F5FA0588>>, 'ResourceWarning': <class 'ResourceWarning'>, 'TabError': <class 'TabError'>, 'InterruptedError': <class 'InterruptedError'>, 'ascii': <built-in function ascii>, 'SystemExit': <class 'SystemExit'>, 'NameError': <class 'NameError'>, 'Warning': <class 'Warning'>, 'UnicodeEncodeError': <class 'UnicodeEncodeError'>, 'license': See https://www.python.org/psf/license/, 'IOError': <class 'OSError'>, 'max': <built-in function max>, 'map': <class 'map'>, 'min': <built-in function min>, 'KeyboardInterrupt': <class 'KeyboardInterrupt'>, 'oct': <built-in function oct>, 'ConnectionResetError': <class 'ConnectionResetError'>, '__build_class__': <built-in function __build_class__>, 'bin': <built-in function bin>, 'object': <class 'object'>, 'complex': <class 'complex'>, 'open': <built-in function open>, 'isinstance': <built-in function isinstance>, 'delattr': <built-in function delattr>, 'setattr': <built-in function setattr>, 'all': <built-in function all>, 'dir': <built-in function dir>, 'classmethod': <class 'classmethod'>, 'RuntimeError': <class 'RuntimeError'>, 'AttributeError': <class 'AttributeError'>, 'PendingDeprecationWarning': <class 'PendingDeprecationWarning'>, 'NotImplementedError': <class 'NotImplementedError'>, 'ProcessLookupError': <class 'ProcessLookupError'>, 'IndexError': <class 'IndexError'>, 'callable': <built-in function callable>, 'ReferenceError': <class 'ReferenceError'>, 'staticmethod': <class 'staticmethod'>, 'slice': <class 'slice'>, 'TypeError': <class 'TypeError'>, 'UserWarning': <class 'UserWarning'>, 'UnicodeError': <class 'UnicodeError'>, 'FileExistsError': <class 'FileExistsError'>, 'filter': <class 'filter'>, 'AssertionError': <class 'AssertionError'>, 'float': <class 'float'>, 'next': <built-in function next>, 'help': Type help() for interactive help, or help(object) for help about object., 'UnicodeDecodeError': <class 'UnicodeDecodeError'>, 'NotADirectoryError': <class 'NotADirectoryError'>, 'UnboundLocalError': <class 'UnboundLocalError'>, 'abs': <built-in function abs>, 'BlockingIOError': <class 'BlockingIOError'>, 'ConnectionError': <class 'ConnectionError'>, 'EOFError': <class 'EOFError'>, 'ConnectionRefusedError': <class 'ConnectionRefusedError'>, 'locals': <built-in function locals>, 'format': <built-in function format>, '__name__': 'builtins', 'IsADirectoryError': <class 'IsADirectoryError'>, 'str': <class 'str'>, 'FileNotFoundError': <class 'FileNotFoundError'>, 'EnvironmentError': <class 'OSError'>, 'GeneratorExit': <class 'GeneratorExit'>, 'DeprecationWarning': <class 'DeprecationWarning'>, 'type': <class 'type'>, 'True': True, 'vars': <built-in function vars>, 'int': <class 'int'>, 'id': <built-in function id>, 'OSError': <class 'OSError'>, 'issubclass': <built-in function issubclass>, 'ChildProcessError': <class 'ChildProcessError'>, 'reversed': <class 'reversed'>, 'repr': <built-in function repr>, 'credits':     Thanks to CWI, CNRI, BeOpen.com, Zope Corporation and a cast of thousands\n",
      "    for supporting Python development.  See www.python.org for more information., 'dict': <class 'dict'>, 'chr': <built-in function chr>, 'getattr': <built-in function getattr>, 'hex': <built-in function hex>, 'bytearray': <class 'bytearray'>, 'hash': <built-in function hash>, 'print': <built-in function print>, 'WindowsError': <class 'OSError'>, '__loader__': <class '_frozen_importlib.BuiltinImporter'>, 'Ellipsis': Ellipsis, 'bytes': <class 'bytes'>, 'memoryview': <class 'memoryview'>, '__debug__': True, 'len': <built-in function len>, 'BufferError': <class 'BufferError'>, 'LookupError': <class 'LookupError'>, 'enumerate': <class 'enumerate'>, 'compile': <built-in function compile>, '__doc__': \"Built-in functions, exceptions, and other objects.\\n\\nNoteworthy: None is the `nil' object; Ellipsis represents `...' in slices.\", 'TimeoutError': <class 'TimeoutError'>, 'pow': <built-in function pow>, '__spec__': ModuleSpec(name='builtins', loader=<class '_frozen_importlib.BuiltinImporter'>), 'divmod': <built-in function divmod>, 'sorted': <built-in function sorted>, 'SyntaxWarning': <class 'SyntaxWarning'>, 'None': None, 'hasattr': <built-in function hasattr>, 'tuple': <class 'tuple'>, 'False': False, 'exec': <built-in function exec>, 'range': <class 'range'>, 'SystemError': <class 'SystemError'>, 'ImportError': <class 'ImportError'>, 'ZeroDivisionError': <class 'ZeroDivisionError'>, 'zip': <class 'zip'>, '__import__': <built-in function __import__>, 'super': <class 'super'>, 'any': <built-in function any>, 'PermissionError': <class 'PermissionError'>, 'RecursionError': <class 'RecursionError'>, 'eval': <built-in function eval>, 'globals': <built-in function globals>, 'FutureWarning': <class 'FutureWarning'>, 'NotImplemented': NotImplemented, 'ArithmeticError': <class 'ArithmeticError'>}, 'O_NOINHERIT': 128, 'closerange': <built-in function closerange>, 'lstat': <built-in function lstat>, '__all__': ['altsep', 'curdir', 'pardir', 'sep', 'pathsep', 'linesep', 'defpath', 'name', 'path', 'devnull', 'SEEK_SET', 'SEEK_CUR', 'SEEK_END', 'fsencode', 'fsdecode', 'get_exec_path', 'fdopen', 'popen', 'extsep', '_exit', 'F_OK', 'O_APPEND', 'O_BINARY', 'O_CREAT', 'O_EXCL', 'O_NOINHERIT', 'O_RANDOM', 'O_RDONLY', 'O_RDWR', 'O_SEQUENTIAL', 'O_SHORT_LIVED', 'O_TEMPORARY', 'O_TEXT', 'O_TRUNC', 'O_WRONLY', 'P_DETACH', 'P_NOWAIT', 'P_NOWAITO', 'P_OVERLAY', 'P_WAIT', 'R_OK', 'TMP_MAX', 'W_OK', 'X_OK', 'abort', 'access', 'chdir', 'chmod', 'close', 'closerange', 'cpu_count', 'device_encoding', 'dup', 'dup2', 'environ', 'error', 'execv', 'execve', 'fstat', 'fsync', 'ftruncate', 'get_handle_inheritable', 'get_inheritable', 'get_terminal_size', 'getcwd', 'getcwdb', 'getlogin', 'getpid', 'getppid', 'isatty', 'kill', 'link', 'listdir', 'lseek', 'lstat', 'mkdir', 'open', 'pipe', 'putenv', 'read', 'readlink', 'remove', 'rename', 'replace', 'rmdir', 'scandir', 'set_handle_inheritable', 'set_inheritable', 'spawnv', 'spawnve', 'startfile', 'stat', 'stat_float_times', 'stat_result', 'statvfs_result', 'strerror', 'symlink', 'system', 'terminal_size', 'times', 'times_result', 'truncate', 'umask', 'uname_result', 'unlink', 'urandom', 'utime', 'waitpid', 'write', 'makedirs', 'removedirs', 'renames', 'walk', 'execl', 'execle', 'execlp', 'execlpe', 'execvp', 'execvpe', 'getenv', 'supports_bytes_environ', 'spawnl', 'spawnle'], 'O_EXCL': 1024, 'O_BINARY': 32768, 'supports_follow_symlinks': {<built-in function stat>}, 'getlogin': <built-in function getlogin>, '__name__': 'os', 'sys': <module 'sys' (built-in)>, 'O_RDWR': 2, 'readlink': <built-in function readlink>, 'times_result': <class 'nt.times_result'>, 'terminal_size': <class 'os.terminal_size'>, 'symlink': <built-in function symlink>, '__cached__': 'C:\\\\Program Files\\\\Anaconda3\\\\lib\\\\__pycache__\\\\os.cpython-35.pyc', 'statvfs_result': <class 'os.statvfs_result'>, 'abort': <built-in function abort>, '_putenv': <built-in function putenv>, 'dup2': <built-in function dup2>, 'renames': <function renames at 0x00000233F2637598>, '__file__': 'C:\\\\Program Files\\\\Anaconda3\\\\lib\\\\os.py', 'popen': <function popen at 0x00000233F2651158>, 'stat': <built-in function stat>, 'spawnl': <function spawnl at 0x00000233F2766EA0>, 'chmod': <built-in function chmod>, 'O_TEMPORARY': 64, 'path': <module 'ntpath' from 'C:\\\\Program Files\\\\Anaconda3\\\\lib\\\\ntpath.py'>, 'W_OK': 2, 'R_OK': 4, 'device_encoding': <built-in function device_encoding>, '__loader__': <_frozen_importlib_external.SourceFileLoader object at 0x00000233F2614940>, 'execve': <built-in function execve>, 'close': <built-in function close>, 'write': <built-in function write>, 'pipe': <built-in function pipe>, 'O_RDONLY': 0, 'fsync': <built-in function fsync>, 'remove': <built-in function remove>, 'putenv': <built-in function putenv>, '__doc__': \"OS routines for NT or Posix depending on what system we're on.\\n\\nThis exports:\\n  - all functions from posix, nt or ce, e.g. unlink, stat, etc.\\n  - os.path is either posixpath or ntpath\\n  - os.name is either 'posix', 'nt' or 'ce'.\\n  - os.curdir is a string representing the current directory ('.' or ':')\\n  - os.pardir is a string representing the parent directory ('..' or '::')\\n  - os.sep is the (or a most common) pathname separator ('/' or ':' or '\\\\\\\\')\\n  - os.extsep is the extension separator (always '.')\\n  - os.altsep is the alternate pathname separator (None or '/')\\n  - os.pathsep is the component separator used in $PATH etc\\n  - os.linesep is the line separator in text files ('\\\\r' or '\\\\n' or '\\\\r\\\\n')\\n  - os.defpath is the default search path for executables\\n  - os.devnull is the file path of the null device ('/dev/null', etc.)\\n\\nPrograms that import and use 'os' stand a better chance of being\\nportable between different platforms.  Of course, they must then\\nonly use functions that are defined by all platforms (e.g., unlink\\nand opendir), and leave all pathname manipulation to os.path\\n(e.g., split and join).\\n\", 'mkdir': <built-in function mkdir>, 'pardir': '..', 'execvpe': <function execvpe at 0x00000233F2637BF8>, 'stat_result': <class 'os.stat_result'>, '__spec__': ModuleSpec(name='os', loader=<_frozen_importlib_external.SourceFileLoader object at 0x00000233F2614940>, origin='C:\\\\Program Files\\\\Anaconda3\\\\lib\\\\os.py'), 'execle': <function execle at 0x00000233F26379D8>, 'P_NOWAITO': 3, '_exit': <built-in function _exit>, 'O_TEXT': 16384, 'stat_float_times': <built-in function stat_float_times>, 'pathsep': ';', 'scandir': <built-in function scandir>, 'supports_dir_fd': set(), 'supports_effective_ids': set(), 'O_CREAT': 256, '_dummy_scandir': <function _dummy_scandir at 0x00000233F26376A8>, 'getppid': <built-in function getppid>, 'getpid': <built-in function getpid>, 'urandom': <built-in function urandom>, 'environ': environ({'PUBLIC': 'C:\\\\Users\\\\Public', 'PATH': 'C:\\\\Program Files\\\\Anaconda3\\\\Library\\\\bin;C:\\\\Program Files\\\\Anaconda3\\\\Library\\\\bin;C:\\\\Program Files\\\\Anaconda3;C:\\\\Program Files\\\\Anaconda3\\\\Scripts;C:\\\\Program Files\\\\Anaconda3\\\\Library\\\\bin;C:\\\\Program Files\\\\Anaconda3\\\\Library\\\\bin;C:\\\\oraclexe\\\\app\\\\oracle\\\\product\\\\10.2.0\\\\server\\\\bin;C:\\\\ProgramData\\\\Oracle\\\\Java\\\\javapath;C:\\\\Python35-32\\\\;C:\\\\WINDOWS\\\\system32;C:\\\\WINDOWS;C:\\\\WINDOWS\\\\System32\\\\Wbem;C:\\\\WINDOWS\\\\System32\\\\WindowsPowerShell\\\\v1.0\\\\;C:\\\\GnuWin32\\\\bin;C:\\\\MinGW\\\\bin;C:\\\\MinGW\\\\mysys\\\\1.0\\\\bin;C:\\\\Program Files\\\\MATLAB\\\\R2013a\\\\runtime\\\\win64;C:\\\\Program Files\\\\MATLAB\\\\R2013a\\\\bin;F:\\\\Projects\\\\Eclipse\\\\WorkSpace\\\\10StringTesting\\\\src\\\\toString;C:\\\\Program Files\\\\Java\\\\jdk1.8.0_51\\\\bin;C:\\\\Program Files\\\\Java\\\\jdk1.8.0_51\\\\bin\\\\javac;C:\\\\WINDOWS\\\\system32\\\\config\\\\systemprofile\\\\.dnx\\\\bin;C:\\\\Program Files\\\\Microsoft DNX\\\\Dnvm\\\\;C:\\\\Program Files\\\\Microsoft SQL Server\\\\130\\\\Tools\\\\Binn\\\\;C:\\\\Program Files\\\\nodejs\\\\;C:\\\\Python35-32\\\\Scripts;C:\\\\Python35-32\\\\Scripts;C:\\\\Program Files\\\\Anaconda3;C:\\\\Program Files\\\\Anaconda3\\\\Scripts;C:\\\\Program Files\\\\Anaconda3\\\\Library\\\\bin;C:\\\\Program Files\\\\Git\\\\cmd;C:\\\\Users\\\\Aman\\\\AppData\\\\Local\\\\Microsoft\\\\WindowsApps;C:\\\\GnuWin32\\\\bin;C:\\\\MinGW\\\\bin;C:\\\\MinGW\\\\mysys\\\\1.0\\\\bin;C:\\\\Python35-32;C:\\\\Python35-32\\\\python.exe;C:\\\\Users\\\\Aman\\\\AppData\\\\Roaming\\\\npm;C:\\\\Python35-32\\\\Scripts;C:\\\\Python35-32\\\\Scripts;C:\\\\Python35-32\\\\Scripts', 'PROCESSOR_IDENTIFIER': 'Intel64 Family 6 Model 69 Stepping 1, GenuineIntel', 'PATHEXT': '.COM;.EXE;.BAT;.CMD;.VBS;.VBE;.JS;.JSE;.WSF;.WSH;.MSC;.PY', 'OS': 'Windows_NT', 'PROCESSOR_LEVEL': '6', 'IPY_INTERRUPT_EVENT': '1660', 'PROCESSOR_REVISION': '4501', 'COMPUTERNAME': 'DESKTOP-AQAM3JN', 'PROCESSOR_ARCHITECTURE': 'AMD64', 'USERDOMAIN': 'DESKTOP-AQAM3JN', 'GIT_PAGER': 'cat', 'JAVA_HOME': 'C:\\\\Program Files (x86)\\\\Java\\\\jdk1.8.0_40\\\\bin', 'FPS_BROWSER_USER_PROFILE_STRING': 'Default', 'NUMBER_OF_PROCESSORS': '4', 'TMP': 'C:\\\\Users\\\\Aman\\\\AppData\\\\Local\\\\Temp', 'VS140COMNTOOLS': 'C:\\\\Program Files (x86)\\\\Microsoft Visual Studio 14.0\\\\Common7\\\\Tools\\\\', 'PROGRAMW6432': 'C:\\\\Program Files', 'USERNAME': 'Aman', 'COMMONPROGRAMFILES': 'C:\\\\Program Files\\\\Common Files', 'PROGRAMDATA': 'C:\\\\ProgramData', 'VBOX_MSI_INSTALL_PATH': 'C:\\\\Program Files\\\\Oracle\\\\VirtualBox\\\\', 'CLICOLOR': '1', 'ONEDRIVE': 'C:\\\\Users\\\\Aman\\\\OneDrive', 'USERDOMAIN_ROAMINGPROFILE': 'DESKTOP-AQAM3JN', 'PROGRAMFILES': 'C:\\\\Program Files', 'APPDATA': 'C:\\\\Users\\\\Aman\\\\AppData\\\\Roaming', 'USERPROFILE': 'C:\\\\Users\\\\Aman', 'TEMP': 'C:\\\\Users\\\\Aman\\\\AppData\\\\Local\\\\Temp', 'COMMONPROGRAMW6432': 'C:\\\\Program Files\\\\Common Files', 'FPS_BROWSER_APP_PROFILE_STRING': 'Internet Explorer', 'COMSPEC': 'C:\\\\WINDOWS\\\\system32\\\\cmd.exe', 'HOMEPATH': '\\\\Users\\\\Aman', 'JPY_PARENT_PID': '668', 'HOMEDRIVE': 'C:', 'MPLBACKEND': 'module://ipykernel.pylab.backend_inline', 'SYSTEMDRIVE': 'C:', 'PAGER': 'cat', 'JPY_INTERRUPT_EVENT': '1660', 'COMMONPROGRAMFILES(X86)': 'C:\\\\Program Files (x86)\\\\Common Files', 'WINDIR': 'C:\\\\WINDOWS', 'TERM': 'xterm-color', 'SESSIONNAME': 'Console', 'ALLUSERSPROFILE': 'C:\\\\ProgramData', 'LOGONSERVER': '\\\\\\\\DESKTOP-AQAM3JN', 'SYSTEMROOT': 'C:\\\\WINDOWS', 'LOCALAPPDATA': 'C:\\\\Users\\\\Aman\\\\AppData\\\\Local', 'PSMODULEPATH': 'C:\\\\WINDOWS\\\\system32\\\\WindowsPowerShell\\\\v1.0\\\\Modules\\\\', 'PROGRAMFILES(X86)': 'C:\\\\Program Files (x86)'}), 'extsep': '.', 'altsep': '/', 'sep': '\\\\', 'read': <built-in function read>, 'execvp': <function execvp at 0x00000233F2637B70>, 'P_DETACH': 4, 'unlink': <built-in function unlink>, 'execl': <function execl at 0x00000233F2637950>, 'P_OVERLAY': 2, 'O_SEQUENTIAL': 32, 'rename': <built-in function rename>}\n"
     ]
    }
   ],
   "source": [
    "import os\n",
    "print(os.__dict__)"
   ]
  },
  {
   "cell_type": "code",
   "execution_count": 38,
   "metadata": {
    "collapsed": false
   },
   "outputs": [
    {
     "name": "stdout",
     "output_type": "stream",
     "text": [
      "Help on built-in function items:\n",
      "\n",
      "items(...) method of builtins.dict instance\n",
      "    D.items() -> a set-like object providing a view on D's items\n",
      "\n"
     ]
    }
   ],
   "source": [
    "help(locals().items)"
   ]
  },
  {
   "cell_type": "code",
   "execution_count": 40,
   "metadata": {
    "collapsed": false
   },
   "outputs": [
    {
     "name": "stdout",
     "output_type": "stream",
     "text": [
      "__main__\n"
     ]
    }
   ],
   "source": [
    "print(__name__)"
   ]
  }
 ],
 "metadata": {
  "anaconda-cloud": {},
  "kernelspec": {
   "display_name": "Python [conda root]",
   "language": "python",
   "name": "conda-root-py"
  },
  "language_info": {
   "codemirror_mode": {
    "name": "ipython",
    "version": 3
   },
   "file_extension": ".py",
   "mimetype": "text/x-python",
   "name": "python",
   "nbconvert_exporter": "python",
   "pygments_lexer": "ipython3",
   "version": "3.5.2"
  }
 },
 "nbformat": 4,
 "nbformat_minor": 1
}
