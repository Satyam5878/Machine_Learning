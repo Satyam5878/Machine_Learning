{
 "cells": [
  {
   "cell_type": "code",
   "execution_count": 9,
   "metadata": {},
   "outputs": [
    {
     "name": "stdout",
     "output_type": "stream",
     "text": [
      "\n",
      "Done(*_*)\n"
     ]
    }
   ],
   "source": [
    "## import stmts;\n",
    "import tensorflow as tf\n",
    "import numpy as np\n",
    "import matplotlib.pyplot as plt\n",
    "import  time\n",
    "import math\n",
    "\n",
    "from sklearn.metrics import confusion_matrix\n",
    "from datetime import timedelta\n",
    "from tensorflow.examples.tutorials.mnist import input_data\n",
    "s = \"\\nDone(*_*)\"\n",
    "print(s)"
   ]
  },
  {
   "cell_type": "code",
   "execution_count": null,
   "metadata": {
    "collapsed": true
   },
   "outputs": [],
   "source": [
    "tf.__version__\n",
    "\n",
    "print(s)"
   ]
  },
  {
   "cell_type": "markdown",
   "metadata": {},
   "source": [
    "## Configuration of Neural Network"
   ]
  },
  {
   "cell_type": "code",
   "execution_count": 7,
   "metadata": {},
   "outputs": [
    {
     "name": "stdout",
     "output_type": "stream",
     "text": [
      "\n",
      "Done(*_*)\n"
     ]
    }
   ],
   "source": [
    "## Convolution Layer 1;\n",
    "filter_size_l1 = 5\n",
    "num_fiter_l1 = 16\n",
    "\n",
    "## Convolution Layer 2;\n",
    "filter_size_l2 = 5\n",
    "num_filter_l2 = 16\n",
    "## Fully Connected Layer;\n",
    "fc_size = 128\n",
    "\n",
    "print(s)"
   ]
  },
  {
   "cell_type": "markdown",
   "metadata": {},
   "source": [
    "## Loading Data"
   ]
  },
  {
   "cell_type": "code",
   "execution_count": 12,
   "metadata": {},
   "outputs": [
    {
     "name": "stdout",
     "output_type": "stream",
     "text": [
      "Extracting data/MNIST\\train-images-idx3-ubyte.gz\n",
      "Extracting data/MNIST\\train-labels-idx1-ubyte.gz\n",
      "Extracting data/MNIST\\t10k-images-idx3-ubyte.gz\n",
      "Extracting data/MNIST\\t10k-labels-idx1-ubyte.gz\n",
      "\n",
      "Done(*_*)\n"
     ]
    }
   ],
   "source": [
    "## Loading data\n",
    "data = input_data.read_data_sets(\"data/MNIST\",one_hot=True)\n",
    "\n",
    "## Converting one-hot encoded labels to class(0-9)\n",
    "data.train.cls = tf.argmax(data.train.labels)\n",
    "data.test.cls = tf.argmax(data.test.labels)\n",
    "\n",
    "print(s)"
   ]
  },
  {
   "cell_type": "code",
   "execution_count": 14,
   "metadata": {},
   "outputs": [
    {
     "name": "stdout",
     "output_type": "stream",
     "text": [
      "55000\n",
      "10000\n",
      "\n",
      "Done(*_*)\n"
     ]
    }
   ],
   "source": [
    "## Dataset info\n",
    "print(len(data.train.images))\n",
    "print(len(data.test.images))\n",
    "\n",
    "print(s)"
   ]
  },
  {
   "cell_type": "markdown",
   "metadata": {},
   "source": [
    "## Data dimension"
   ]
  },
  {
   "cell_type": "code",
   "execution_count": 17,
   "metadata": {},
   "outputs": [
    {
     "name": "stdout",
     "output_type": "stream",
     "text": [
      "\n",
      "Done(*_*)\n"
     ]
    }
   ],
   "source": [
    "# image size\n",
    "img_size = 28\n",
    "\n",
    "# flat image size\n",
    "img_size_flat = img_size*img_size\n",
    "\n",
    "# image shape\n",
    "img_shape = (img_size,img_size)\n",
    "\n",
    "#number of classes\n",
    "num_classes = 10\n",
    "\n",
    "# number of channels\n",
    "num_channels = 1\n",
    "print(s)"
   ]
  },
  {
   "cell_type": "markdown",
   "metadata": {},
   "source": [
    "## Function to plot images"
   ]
  },
  {
   "cell_type": "code",
   "execution_count": null,
   "metadata": {
    "collapsed": true
   },
   "outputs": [],
   "source": [
    "## Helper function to plot the images, in total 9 images in 3X3 grid\n",
    "def plot_images(images,cls_true,cls_pred=None):\n",
    "    assert len(images) == len(cls_true) == 9\n",
    "    \n",
    "    fig,axes = plt.subplots(3,3)\n",
    "    fig.subplots_adjust(hspace=.5,wspace=0.5)\n",
    "    for i, ax in enumerate(axes.flat):\n",
    "        ax.imshow(images[i].reshape(img_shape),cmap='binary')\n",
    "        \n",
    "        if cls_pred is None:\n",
    "            xlabels = \"True: {0}\".format(cls_true[i])\n",
    "        else:\n",
    "            xlabels = \"True: {0}, False: {1}\".format(cls_true[i],cls_pred[i])\n",
    "        ax.set_xlabel(xlabels)\n",
    "        ax.set_xticks([])\n",
    "        ax.set_yticks([])\n",
    "        \n",
    "    plt.show()\n",
    "\n",
    "print(s)"
   ]
  },
  {
   "cell_type": "markdown",
   "metadata": {},
   "source": [
    "## Funtion to create new weights and biases"
   ]
  },
  {
   "cell_type": "code",
   "execution_count": null,
   "metadata": {
    "collapsed": true
   },
   "outputs": [],
   "source": [
    "## creating new weights \n",
    "def new_weights(shape):\n",
    "    return tf.Variable(tf.truncated_normal(shape,stddev=.05))\n",
    "\n",
    "## creating new biases\n",
    "def new_biases(length):\n",
    "    return tf.Variable(tf.constant(0.05,shape=[length]))\n",
    "\n",
    "# new_weights((3,4))\n",
    "# new_biases((4))\n",
    "\n",
    "print(s)"
   ]
  },
  {
   "cell_type": "markdown",
   "metadata": {},
   "source": [
    "## Function to create new convoutional layer"
   ]
  },
  {
   "cell_type": "code",
   "execution_count": 22,
   "metadata": {},
   "outputs": [
    {
     "name": "stdout",
     "output_type": "stream",
     "text": [
      "\n",
      "Done(*_*)\n"
     ]
    }
   ],
   "source": [
    "def new_con_layer(input,\n",
    "                  num_input_channels,\n",
    "                  filter_size,\n",
    "                  num_filters,\n",
    "                  max_pooling=True):\n",
    "    pass\n",
    "\n",
    "# new_con_layer([])\n",
    "print(s)"
   ]
  }
 ],
 "metadata": {
  "kernelspec": {
   "display_name": "Python 3",
   "language": "python",
   "name": "python3"
  },
  "language_info": {
   "codemirror_mode": {
    "name": "ipython",
    "version": 3
   },
   "file_extension": ".py",
   "mimetype": "text/x-python",
   "name": "python",
   "nbconvert_exporter": "python",
   "pygments_lexer": "ipython3",
   "version": "3.6.3"
  }
 },
 "nbformat": 4,
 "nbformat_minor": 2
}
