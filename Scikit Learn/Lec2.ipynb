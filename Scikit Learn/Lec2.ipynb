{
 "cells": [
  {
   "cell_type": "code",
   "execution_count": 3,
   "metadata": {
    "collapsed": false
   },
   "outputs": [
    {
     "name": "stdout",
     "output_type": "stream",
     "text": [
      "Done\n"
     ]
    }
   ],
   "source": [
    "import matplotlib.pyplot as plt\n",
    "from sklearn import datasets\n",
    "from sklearn import svm\n",
    "from sklearn.model_selection import train_test_split\n",
    "import tensorflow\n",
    "\n",
    "print(\"Done\")"
   ]
  },
  {
   "cell_type": "code",
   "execution_count": null,
   "metadata": {
    "collapsed": false
   },
   "outputs": [],
   "source": [
    "## Loading digit datasets\n",
    "digits = datasets.load_digits()\n"
   ]
  },
  {
   "cell_type": "code",
   "execution_count": null,
   "metadata": {
    "collapsed": true
   },
   "outputs": [],
   "source": [
    "## printing the datasets\n",
    "print(digits.data)\n",
    "print(digits.target)\n",
    "for i in range(1,10):\n",
    "    print(digits.images[i])"
   ]
  },
  {
   "cell_type": "code",
   "execution_count": null,
   "metadata": {
    "collapsed": true
   },
   "outputs": [],
   "source": [
    "## plotting the image\n",
    "plt.figure(1, figsize=(3, 3))\n",
    "plt.imshow(digits.images[-1], cmap=plt.cm.gray_r, interpolation='nearest')\n",
    "plt.show()"
   ]
  },
  {
   "cell_type": "code",
   "execution_count": null,
   "metadata": {
    "collapsed": false
   },
   "outputs": [],
   "source": [
    "# type of digits\n",
    "print(type(digits))"
   ]
  },
  {
   "cell_type": "code",
   "execution_count": null,
   "metadata": {
    "collapsed": false
   },
   "outputs": [],
   "source": [
    "## test train data split\n",
    "\n",
    "X = digits.data\n",
    "y = digits.target\n",
    "X_train,X_test,y_train,y_test = train_test_split(X,y , test_size=.33,random_state=42)\n",
    "\n",
    "## istantiating classifier\n",
    "clf = svm.SVC(gamma=.001,C=100)\n",
    "clf.fit(X_train,y_train)\n",
    "\n",
    "\n",
    "#print((X_test.shape))\n",
    "#print(clf.predict(X_test))\n",
    "#print(y_test)\n",
    "\n",
    "\n",
    "for i in range(0,len(X_test)):\n",
    "    print(clf.predict([digits.data[i]]))\n",
    "    plt.imshow(X_test.images[i], cmap=plt.cm.gray_r, interpolation='nearest')\n",
    "    plt.show()\n",
    "\n",
    "clf.predict(digits.data[1])"
   ]
  },
  {
   "cell_type": "code",
   "execution_count": null,
   "metadata": {
    "collapsed": false
   },
   "outputs": [],
   "source": [
    "digits.target"
   ]
  },
  {
   "cell_type": "code",
   "execution_count": null,
   "metadata": {
    "collapsed": false
   },
   "outputs": [],
   "source": [
    "## getting train test split data, instatiating classifier and fitting data\n",
    "\n",
    "x,y = digits.data[:-10],digits.target[:-10]\n",
    "clf = svm.SVC(gamma=.01,C=100)\n",
    "clf.fit(x,y)\n",
    "\n",
    "for i in range(0,10):\n",
    "    print(clf.predict([digits.data[len(digits.data)-100+i]]))\n",
    "    plt.imshow(digits.images[len(digits.data)-100+i], cmap=plt.cm.gray_r, interpolation='nearest')\n",
    "    plt.show()\n"
   ]
  }
 ],
 "metadata": {
  "kernelspec": {
   "display_name": "Python [conda root]",
   "language": "python",
   "name": "conda-root-py"
  }
 },
 "nbformat": 4,
 "nbformat_minor": 1
}
