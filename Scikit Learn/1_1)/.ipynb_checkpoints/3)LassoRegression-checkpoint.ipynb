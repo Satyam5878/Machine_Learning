{
 "cells": [
  {
   "cell_type": "markdown",
   "metadata": {},
   "source": [
    "# Lasso Regression"
   ]
  },
  {
   "cell_type": "markdown",
   "metadata": {},
   "source": [
    "<li>Estimates sparse coefficients</li>\n",
    "<li>Can be used for feature selection</li>\n",
    "<li>Prefer solution with lesser no. of parameters</li>\n",
    "<li>Cost function is : <ul>$min_{\\substack{w}}$ $\\frac{1}{2n_{samples}}||Xw-y||_{2}+\\alpha||w||_{1}$</ul></li>\n",
    "<li>Solves minimization of least square penalized with $\\alpha||w||_{1}$, where $\\alpha$ is regularization parameter and $||w||_{1}$ is $l_{1}$ norm</li>\n",
    "<li>Lasso uses $Coordinate$ $descent$ $algorithm$ to fit the parameters</li>\n",
    "<li>lasso_path</li>\n",
    "     \n",
    "\n",
    "<li>Why Lasso?<ol>If data of high dimensionality, then to reduce the no. of dimension i.e. feature selection </ol></li>"
   ]
  },
  {
   "cell_type": "markdown",
   "metadata": {},
   "source": [
    "# Multitask Lasso Regression\n",
    "\n",
    "<li>Estimates sparse coefficients for multiple problem</li>\n",
    "<li></li>\n",
    "\n",
    "\n",
    "\n",
    "<li></li>"
   ]
  },
  {
   "cell_type": "markdown",
   "metadata": {},
   "source": [
    "### Lasso Regression"
   ]
  },
  {
   "cell_type": "code",
   "execution_count": 6,
   "metadata": {},
   "outputs": [
    {
     "name": "stdout",
     "output_type": "stream",
     "text": [
      "\n",
      "Done(*_*)\n"
     ]
    }
   ],
   "source": [
    "import numpy as np\n",
    "import matplotlib.pyplot as plt\n",
    "\n",
    "from sklearn.datasets import load_diabetes\n",
    "\n",
    "\n",
    "s = \"\\nDone(*_*)\"\n",
    "print(s)"
   ]
  },
  {
   "cell_type": "markdown",
   "metadata": {},
   "source": [
    "### Loading data "
   ]
  },
  {
   "cell_type": "code",
   "execution_count": 9,
   "metadata": {},
   "outputs": [
    {
     "name": "stdout",
     "output_type": "stream",
     "text": [
      "\n",
      "Done(*_*)\n"
     ]
    }
   ],
   "source": [
    "data = load_diabetes()\n",
    "\n",
    "print(s)"
   ]
  },
  {
   "cell_type": "markdown",
   "metadata": {},
   "source": [
    "### Description of data"
   ]
  },
  {
   "cell_type": "code",
   "execution_count": 11,
   "metadata": {},
   "outputs": [
    {
     "name": "stdout",
     "output_type": "stream",
     "text": [
      "Diabetes dataset\n",
      "================\n",
      "\n",
      "Notes\n",
      "-----\n",
      "\n",
      "Ten baseline variables, age, sex, body mass index, average blood\n",
      "pressure, and six blood serum measurements were obtained for each of n =\n",
      "442 diabetes patients, as well as the response of interest, a\n",
      "quantitative measure of disease progression one year after baseline.\n",
      "\n",
      "Data Set Characteristics:\n",
      "\n",
      "  :Number of Instances: 442\n",
      "\n",
      "  :Number of Attributes: First 10 columns are numeric predictive values\n",
      "\n",
      "  :Target: Column 11 is a quantitative measure of disease progression one year after baseline\n",
      "\n",
      "  :Attributes:\n",
      "    :Age:\n",
      "    :Sex:\n",
      "    :Body mass index:\n",
      "    :Average blood pressure:\n",
      "    :S1:\n",
      "    :S2:\n",
      "    :S3:\n",
      "    :S4:\n",
      "    :S5:\n",
      "    :S6:\n",
      "\n",
      "Note: Each of these 10 feature variables have been mean centered and scaled by the standard deviation times `n_samples` (i.e. the sum of squares of each column totals 1).\n",
      "\n",
      "Source URL:\n",
      "http://www4.stat.ncsu.edu/~boos/var.select/diabetes.html\n",
      "\n",
      "For more information see:\n",
      "Bradley Efron, Trevor Hastie, Iain Johnstone and Robert Tibshirani (2004) \"Least Angle Regression,\" Annals of Statistics (with discussion), 407-499.\n",
      "(http://web.stanford.edu/~hastie/Papers/LARS/LeastAngle_2002.pdf)\n",
      "\n",
      "['age', 'sex', 'bmi', 'bp', 's1', 's2', 's3', 's4', 's5', 's6']\n",
      "\n",
      "Done(*_*)\n"
     ]
    }
   ],
   "source": [
    "print(data.DESCR)\n",
    "print(data.feature_names)\n",
    "print(data.)\n",
    "print(s)"
   ]
  },
  {
   "cell_type": "markdown",
   "metadata": {},
   "source": [
    "### Analysing dataset\n",
    "\n"
   ]
  },
  {
   "cell_type": "markdown",
   "metadata": {},
   "source": [
    "<li> Variance-Covariance matrix</li>\n",
    "<li></li>"
   ]
  },
  {
   "cell_type": "markdown",
   "metadata": {},
   "source": [
    "#### Covariance Matrix\n",
    "\n",
    "As there are 10 features and 1 target variable so variance-covariance size will be\n",
    "$11*11$"
   ]
  },
  {
   "cell_type": "code",
   "execution_count": 43,
   "metadata": {},
   "outputs": [
    {
     "name": "stdout",
     "output_type": "stream",
     "text": [
      "[[  2.26757370e-03   3.93961679e-04   4.19693121e-04   7.60604786e-04\n",
      "    5.89707075e-04   4.97149977e-04  -1.70478401e-04   4.62224262e-04\n",
      "    6.14006314e-04   6.84197296e-04   6.89757539e-01]\n",
      " [  3.93961679e-04   2.26757370e-03   1.99912469e-04   5.46515122e-04\n",
      "    7.99927872e-05   3.23440492e-04  -8.59613672e-04   7.53095449e-04\n",
      "    3.39949109e-04   4.71957406e-04   1.58084707e-01]\n",
      " [  4.19693121e-04   1.99912469e-04   2.26757370e-03   8.96633381e-04\n",
      "    5.66388711e-04   5.92222021e-04  -8.31770926e-04   9.38336966e-04\n",
      "    1.01169762e-03   8.81360530e-04   2.15291442e+00]\n",
      " [  7.60604786e-04   5.46515122e-04   8.96633381e-04   2.26757370e-03\n",
      "    5.49817934e-04   4.20766046e-04  -4.05354211e-04   5.84247996e-04\n",
      "    8.92240679e-04   8.85327393e-04   1.62072935e+00]\n",
      " [  5.89707075e-04   7.99927872e-05   5.66388711e-04   5.49817934e-04\n",
      "    2.26757370e-03   2.03324934e-03   1.16823955e-04   1.22949497e-03\n",
      "    1.16893597e-03   7.38586742e-04   7.78354766e-01]\n",
      " [  4.97149977e-04   3.23440492e-04   5.92222021e-04   4.20766046e-04\n",
      "    2.03324934e-03   2.26757370e-03  -4.45476471e-04   1.49618342e-03\n",
      "    7.21889793e-04   6.58957768e-04   6.38967332e-01]\n",
      " [ -1.70478401e-04  -8.59613672e-04  -8.31770926e-04  -4.05354211e-04\n",
      "    1.16823955e-04  -4.45476471e-04   2.26757370e-03  -1.67458669e-03\n",
      "   -9.03802731e-04  -6.20628802e-04  -1.44930902e+00]\n",
      " [  4.62224262e-04   7.53095449e-04   9.38336966e-04   5.84247996e-04\n",
      "    1.22949497e-03   1.49618342e-03  -1.67458669e-03   2.26757370e-03\n",
      "    1.40103717e-03   9.46059215e-04   1.58023363e+00]\n",
      " [  6.14006314e-04   3.39949109e-04   1.01169762e-03   8.92240679e-04\n",
      "    1.16893597e-03   7.21889793e-04  -9.03802731e-04   1.40103717e-03\n",
      "    2.26757370e-03   1.05367450e-03   2.07741207e+00]\n",
      " [  6.84197296e-04   4.71957406e-04   8.81360530e-04   8.85327393e-04\n",
      "    7.38586742e-04   6.58957768e-04  -6.20628802e-04   9.46059215e-04\n",
      "    1.05367450e-03   2.26757370e-03   1.40413338e+00]\n",
      " [  6.89757539e-01   1.58084707e-01   2.15291442e+00   1.62072935e+00\n",
      "    7.78354766e-01   6.38967332e-01  -1.44930902e+00   1.58023363e+00\n",
      "    2.07741207e+00   1.40413338e+00   5.94333135e+03]]\n",
      "(11, 11)\n",
      "\n",
      "Done(*_*)\n"
     ]
    }
   ],
   "source": [
    "cov_mat = np.cov(np.append(data.data,data.target[:,np.newaxis],axis=1).T)\n",
    "print(cov_mat)\n",
    "print(max+\"\")\n",
    "print(cov_mat.shape)\n",
    "print(s)"
   ]
  },
  {
   "cell_type": "markdown",
   "metadata": {},
   "source": [
    "### Plotting variance-covariance matrix"
   ]
  },
  {
   "cell_type": "code",
   "execution_count": 44,
   "metadata": {},
   "outputs": [
    {
     "data": {
      "image/png": "[encoded data removed]",
      "text/plain": [
       "<matplotlib.figure.Figure at 0x26ee4633668>"
      ]
     },
     "metadata": {},
     "output_type": "display_data"
    }
   ],
   "source": [
    "plt.imshow(cov_mat,interpolation=\"nearest\",cmap=plt.cm.Blues)\n",
    "\n",
    "plt.show()"
   ]
  },
  {
   "cell_type": "code",
   "execution_count": null,
   "metadata": {
    "collapsed": true
   },
   "outputs": [],
   "source": []
  },
  {
   "cell_type": "code",
   "execution_count": null,
   "metadata": {
    "collapsed": true
   },
   "outputs": [],
   "source": []
  },
  {
   "cell_type": "markdown",
   "metadata": {},
   "source": [
    "## Testing "
   ]
  },
  {
   "cell_type": "code",
   "execution_count": 35,
   "metadata": {},
   "outputs": [
    {
     "name": "stdout",
     "output_type": "stream",
     "text": [
      "(442, 10)\n",
      "(442,)\n",
      "(442, 1)\n",
      "(442, 11)\n"
     ]
    }
   ],
   "source": [
    "a = np.array([[1,2,3],[4,5,6]])\n",
    "#print(np.cov(data.data.T))\n",
    "print(data.data.shape)\n",
    "print(data.target.shape)\n",
    "print(data.target[:,np.newaxis].shape)\n",
    "print(np.append(data.data,data.target[:,np.newaxis],axis=1).shape)"
   ]
  },
  {
   "cell_type": "code",
   "execution_count": null,
   "metadata": {
    "collapsed": true
   },
   "outputs": [],
   "source": []
  },
  {
   "cell_type": "markdown",
   "metadata": {},
   "source": [
    "### Example - Lasso and Elastic Net for Sparse Signals"
   ]
  },
  {
   "cell_type": "code",
   "execution_count": 5,
   "metadata": {},
   "outputs": [
    {
     "name": "stdout",
     "output_type": "stream",
     "text": [
      "\n",
      "Done(*_*)\n"
     ]
    }
   ],
   "source": [
    "import numpy as np\n",
    "import matplotlib.pyplot as plt\n",
    "\n",
    "from sklearn.datasets import load_diabetes\n",
    "\n",
    "\n",
    "s = \"\\nDone(*_*)\"\n",
    "print(s)\n"
   ]
  },
  {
   "cell_type": "code",
   "execution_count": null,
   "metadata": {
    "collapsed": true
   },
   "outputs": [],
   "source": []
  }
 ],
 "metadata": {
  "kernelspec": {
   "display_name": "Python 3",
   "language": "python",
   "name": "python3"
  },
  "language_info": {
   "codemirror_mode": {
    "name": "ipython",
    "version": 3
   },
   "file_extension": ".py",
   "mimetype": "text/x-python",
   "name": "python",
   "nbconvert_exporter": "python",
   "pygments_lexer": "ipython3",
   "version": "3.6.3"
  }
 },
 "nbformat": 4,
 "nbformat_minor": 2
}
