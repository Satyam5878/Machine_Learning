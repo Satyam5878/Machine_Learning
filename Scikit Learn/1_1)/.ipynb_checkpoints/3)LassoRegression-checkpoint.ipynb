{
 "cells": [
  {
   "cell_type": "markdown",
   "metadata": {},
   "source": [
    "# Lasso Regression"
   ]
  },
  {
   "cell_type": "markdown",
   "metadata": {},
   "source": [
    "<li>Estimates sparse coefficients</li>\n",
    "<li>Can be used for feature selection</li>\n",
    "<li>Prefer solution with lesser no. of parameters</li>\n",
    "<li>Cost function is : <ul>$min_{\\substack{w}}$ $\\frac{1}{2n_{samples}}||Xw-y||_{2}+\\alpha||w||_{1}$</ul></li>\n",
    "<li>Solves minimization of least square penalized with $\\alpha||w||_{1}$, where $\\alpha$ is regularization parameter and $||w||_{1}$ is $l_{1}$ norm</li>\n",
    "<li>Lasso uses $Coordinate$ $descent$ $algorithm$ to fit the parameters</li>\n",
    "<li>lasso_path</li>\n",
    "     \n",
    "\n",
    "<li>Why Lasso?<ol>If data of high dimensionality, then to reduce the no. of dimension i.e. feature selection </ol></li>"
   ]
  },
  {
   "cell_type": "markdown",
   "metadata": {},
   "source": [
    "# Multitask Lasso Regression\n",
    "\n",
    "<li>Estimates sparse coefficients for multiple problem</li>\n",
    "<li></li>\n",
    "\n",
    "\n",
    "\n",
    "<li></li>"
   ]
  },
  {
   "cell_type": "markdown",
   "metadata": {},
   "source": [
    "### Lasso Regression"
   ]
  },
  {
   "cell_type": "code",
   "execution_count": 15,
   "metadata": {},
   "outputs": [
    {
     "name": "stdout",
     "output_type": "stream",
     "text": [
      "\n",
      "Done(*_*)\n"
     ]
    }
   ],
   "source": [
    "import numpy as np\n",
    "import matplotlib.pyplot as plt\n",
    "\n",
    "from sklearn.datasets import load_diabetes\n",
    "from sklearn.preprocessing import normalize\n",
    "\n",
    "s = \"\\nDone(*_*)\"\n",
    "print(s)"
   ]
  },
  {
   "cell_type": "markdown",
   "metadata": {},
   "source": [
    "### Loading data "
   ]
  },
  {
   "cell_type": "code",
   "execution_count": 3,
   "metadata": {},
   "outputs": [
    {
     "name": "stdout",
     "output_type": "stream",
     "text": [
      "\n",
      "Done(*_*)\n"
     ]
    }
   ],
   "source": [
    "data = load_diabetes()\n",
    "\n",
    "print(s)"
   ]
  },
  {
   "cell_type": "markdown",
   "metadata": {},
   "source": [
    "### Description of data"
   ]
  },
  {
   "cell_type": "code",
   "execution_count": 4,
   "metadata": {},
   "outputs": [
    {
     "ename": "SyntaxError",
     "evalue": "invalid syntax (<ipython-input-4-0098bc0545fd>, line 3)",
     "output_type": "error",
     "traceback": [
      "\u001b[1;36m  File \u001b[1;32m\"<ipython-input-4-0098bc0545fd>\"\u001b[1;36m, line \u001b[1;32m3\u001b[0m\n\u001b[1;33m    print(data.)\u001b[0m\n\u001b[1;37m               ^\u001b[0m\n\u001b[1;31mSyntaxError\u001b[0m\u001b[1;31m:\u001b[0m invalid syntax\n"
     ]
    }
   ],
   "source": [
    "print(data.DESCR)\n",
    "print(data.feature_names)\n",
    "print(data.)\n",
    "print(s)"
   ]
  },
  {
   "cell_type": "markdown",
   "metadata": {},
   "source": [
    "### Analysing dataset\n",
    "\n"
   ]
  },
  {
   "cell_type": "markdown",
   "metadata": {},
   "source": [
    "<li> Variance-Covariance matrix</li>\n",
    "<li></li>"
   ]
  },
  {
   "cell_type": "markdown",
   "metadata": {},
   "source": [
    "#### Covariance Matrix\n",
    "\n",
    "As there are 10 features and 1 target variable so variance-covariance size will be\n",
    "$11*11$"
   ]
  },
  {
   "cell_type": "code",
   "execution_count": 20,
   "metadata": {},
   "outputs": [
    {
     "name": "stdout",
     "output_type": "stream",
     "text": [
      "\n",
      "Done(*_*)\n"
     ]
    }
   ],
   "source": [
    "# covariance matrix along with target \n",
    "cov_mat = np.cov(np.append(data.data,data.target[:,np.newaxis],axis=1).T)\n",
    "\n",
    "# covariance matrix without target\n",
    "cov_mat = np.cov(data.data.T)\n",
    "\n",
    "\n",
    "#print(cov_mat)\n",
    "print(s)"
   ]
  },
  {
   "cell_type": "markdown",
   "metadata": {},
   "source": [
    "#### Plotting variance-covariance matrix"
   ]
  },
  {
   "cell_type": "code",
   "execution_count": 30,
   "metadata": {},
   "outputs": [
    {
     "data": {
      "image/png": "[encoded data removed]",
      "text/plain": [
       "<matplotlib.figure.Figure at 0x1880125d358>"
      ]
     },
     "metadata": {},
     "output_type": "display_data"
    }
   ],
   "source": [
    "plt.imshow(normalize(cov_mat),interpolation=\"nearest\",cmap=plt.cm.Blues)\n",
    "plt.colorbar()\n",
    "plt.xlabel(\"Features\")\n",
    "plt.ylabel(\"Features\")\n",
    "plt.xticks(np.arange(10),data.feature_names)\n",
    "plt.yticks(np.arange(10),data.feature_names)\n",
    "plt.show()"
   ]
  },
  {
   "cell_type": "markdown",
   "metadata": {
    "collapsed": true
   },
   "source": [
    "Conclusion from above plot:\n",
    "<li> Diagonal line shows the variance of features</li>\n",
    "<li> Rest all is covariance between different features</li>\n",
    "\n"
   ]
  },
  {
   "cell_type": "code",
   "execution_count": null,
   "metadata": {
    "collapsed": true
   },
   "outputs": [],
   "source": []
  },
  {
   "cell_type": "markdown",
   "metadata": {},
   "source": [
    "## Example - Lasso and Elastic Net for Sparse Signals"
   ]
  },
  {
   "cell_type": "code",
   "execution_count": 31,
   "metadata": {},
   "outputs": [
    {
     "name": "stdout",
     "output_type": "stream",
     "text": [
      "\n",
      "Done(*_*)\n"
     ]
    }
   ],
   "source": [
    "import numpy as np\n",
    "import matplotlib.pyplot as plt\n",
    "\n",
    "\n",
    "\n",
    "\n",
    "s = \"\\nDone(*_*)\"\n",
    "print(s)\n"
   ]
  },
  {
   "cell_type": "markdown",
   "metadata": {},
   "source": [
    "### Data generation"
   ]
  },
  {
   "cell_type": "code",
   "execution_count": 46,
   "metadata": {},
   "outputs": [
    {
     "name": "stdout",
     "output_type": "stream",
     "text": [
      "[  1.85454808  -1.88185275  -3.22753722  -1.29637962  12.21021156\n",
      "   3.09834518   0.83311376  12.60558      3.29040286   1.41273462\n",
      "  -9.24393601   0.82443959  -5.38482466   8.74127838 -16.23212532\n",
      "   7.61936206 -10.89723881  -5.88004681  -1.75512379  -0.46345128\n",
      "  -5.8950359   17.7640346   -3.97835215 -19.89832756  -2.75872327\n",
      "  -7.07454408   3.74977501  20.06851876  -4.15553144  -8.24155577\n",
      "   4.26803734   3.33670968  13.20475772   2.44885748 -10.51464129\n",
      " -13.90984428  -5.76433803  -1.73589121 -18.96316779  -9.77324314\n",
      "   8.38704103  -9.83929643  15.54698292   0.15803178  -6.68972473\n",
      "  -3.45724035 -10.4518149   -5.885115    -6.83404273  -0.98061547]\n",
      "[  2.35193526  -1.38446556  -2.73015004  -0.79899244  12.70759875\n",
      "   3.59573237   1.33050094  13.10296718   3.78779004   1.9101218\n",
      "  -8.74654883   1.32182677  -4.88743747   9.23866556 -15.73473813\n",
      "   8.11674925 -10.39985162  -5.38265962  -1.2577366    0.0339359\n",
      "  -5.39764872  18.26142178  -3.48096496 -19.40094038  -2.26133609\n",
      "  -6.57715689   4.2471622   20.56590595  -3.65814425  -7.74416858\n",
      "   4.76542452   3.83409686  13.7021449    2.94624467 -10.01725411\n",
      " -13.4124571   -5.26695084  -1.23850403 -18.4657806   -9.27585596\n",
      "   8.88442821  -9.34190925  16.04437011   0.65541897  -6.19233755\n",
      "  -2.95985316  -9.95442772  -5.38772782  -6.33665554  -0.48322829]\n",
      "[112  39 159 167 115 187  26  11  80 113 180  71  49 148   4 127 195 158\n",
      "  79  54  16   6 114  27 161 182  28  74  87 121  25 147 141  42 189 166\n",
      " 162 156 192  96 125 160 117  38  72  40 100 151  12  97  70  60  67 194\n",
      "  66   7 157 193 170  10  98  47 109  68 178 154   8  31  57  35  99 168\n",
      "  18 128 129  81  32  94 138  73  34 108 130 105  56  65 185 177 186 150\n",
      "  24  53 119 145  82 173  30  29 116   3 140  64   5 126  44  84  91  13\n",
      "  92  21 131   0  48 110 102 184   2  62  93  86 164   1 174  19  17  36\n",
      "  95  15 103 196 143 149 153 169  41  78 190 134 139 107  20  69 122 135\n",
      "  76 123  33 198  50 104  14 176 101 152 120 171 124 181  58  55  85 163\n",
      " 165 155 118 199 197 144  23 175  90 183  83 188  45  51  43  22 191  52\n",
      "  77 132 172  46 142 133  37 106 146  59  89  61   9 137 136  75 111  88\n",
      " 179  63]\n",
      "[ 0.          0.          0.          0.          0.          0.          0.\n",
      "  0.          0.          0.          0.          2.55422981  0.          0.\n",
      "  0.          0.          0.          0.          0.          0.          0.\n",
      "  0.          0.          0.          0.          0.          0.73649605\n",
      "  0.          0.          0.          0.          0.          0.          0.\n",
      "  0.          0.          0.          0.          0.          5.95702923\n",
      "  0.          0.          0.          0.          0.          0.          0.\n",
      "  0.          0.          0.          0.          0.          0.          0.\n",
      "  0.          0.          0.          0.          0.          0.          0.\n",
      "  0.          0.          0.          0.          0.          0.          0.\n",
      "  0.          0.          0.          0.          0.          0.          0.\n",
      "  0.          0.          0.          0.          0.          5.54598921\n",
      "  0.          0.          0.          0.          0.          0.          0.\n",
      "  0.          0.          0.          0.          0.          0.          0.\n",
      "  0.          0.          0.          0.          0.          0.          0.\n",
      "  0.          0.          0.          0.          0.          0.          0.\n",
      "  0.          0.          0.         -2.01392277  0.26759459  0.          0.3702574\n",
      "  0.          0.          0.          0.          0.          0.          0.\n",
      "  0.          0.          0.          0.          0.          0.          0.\n",
      "  0.          0.          0.          0.          0.          0.          0.\n",
      "  0.          0.          0.          0.          0.          0.          0.\n",
      "  0.          0.          0.          0.          0.          0.          0.\n",
      "  0.          0.          0.          0.          0.          0.          0.\n",
      "  0.          3.63627216  0.          0.          0.          0.          0.\n",
      "  0.          0.          0.34998525  0.          0.          0.          0.\n",
      "  0.          0.          0.          0.          0.          0.          0.\n",
      "  0.          0.          0.          0.          0.          0.          0.\n",
      "  0.         -3.24956534  0.          0.          0.          0.          0.\n",
      "  0.          0.          0.          0.          0.          0.          0.        ]\n",
      "\n",
      "Done(*_*)\n"
     ]
    }
   ],
   "source": [
    "np.random.seed(42)\n",
    "\n",
    "n_samples,n_features = 50,200\n",
    "X = np.random.randn(n_samples,n_features)\n",
    "coefs = 3*np.random.randn(n_features)\n",
    "idx = np.arange(n_features)\n",
    "np.random.shuffle(idx)\n",
    "coefs[idx[10:]] = 0\n",
    "y = np.dot(X,coefs)\n",
    "#print(y)\n",
    "y += .01*np.random.normal(n_samples)\n",
    "\n",
    "#print(y)\n",
    "#print(idx)\n",
    "#print(coefs)\n",
    "\n",
    "\n",
    "print(s)"
   ]
  },
  {
   "cell_type": "markdown",
   "metadata": {
    "collapsed": true
   },
   "source": [
    "## Testing "
   ]
  },
  {
   "cell_type": "code",
   "execution_count": null,
   "metadata": {
    "collapsed": true
   },
   "outputs": [],
   "source": [
    "## Appending matrix\n",
    "a = np.array([[1,2,3],[4,5,6]])\n",
    "#print(np.cov(data.data.T))\n",
    "print(data.data.shape)\n",
    "print(data.target.shape)\n",
    "print(data.target[:,np.newaxis].shape)\n",
    "print(np.append(data.data,data.target[:,np.newaxis],axis=1).shape)"
   ]
  },
  {
   "cell_type": "code",
   "execution_count": null,
   "metadata": {
    "collapsed": true
   },
   "outputs": [],
   "source": [
    "## plotting matrix\n",
    "#print(\"max\"+\" : \"+str(max(cov_mat*1000)))\n",
    "#print(\"min\"+\" : \"+str(min(cov_mat*1000)))\n",
    "print(np.max(cov_mat))\n",
    "print(np.min(cov_mat))\n",
    "print(cov_mat.shape)\n",
    "print(s)\n",
    "print(normalize(cov_mat))"
   ]
  }
 ],
 "metadata": {
  "kernelspec": {
   "display_name": "Python 3",
   "language": "python",
   "name": "python3"
  },
  "language_info": {
   "codemirror_mode": {
    "name": "ipython",
    "version": 3
   },
   "file_extension": ".py",
   "mimetype": "text/x-python",
   "name": "python",
   "nbconvert_exporter": "python",
   "pygments_lexer": "ipython3",
   "version": "3.6.3"
  }
 },
 "nbformat": 4,
 "nbformat_minor": 2
}
