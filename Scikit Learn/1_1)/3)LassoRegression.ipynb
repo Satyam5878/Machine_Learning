{
 "cells": [
  {
   "cell_type": "markdown",
   "metadata": {},
   "source": [
    "# Lasso Regression"
   ]
  },
  {
   "cell_type": "markdown",
   "metadata": {},
   "source": [
    "<li>Estimates sparse coefficients</li>\n",
    "<li>Can be used for feature selection</li>\n",
    "<li>Prefer solution with lesser no. of parameters</li>\n",
    "<li>Cost function is : <ul>$min_{\\substack{w}}$ $\\frac{1}{2n_{samples}}||Xw-y||_{2}+\\alpha||w||_{1}$</ul></li>\n",
    "<li>Solves minimization of least square penalized with $\\alpha||w||_{1}$, where $\\alpha$ is regularization parameter and $||w||_{1}$ is $l_{1}$ norm</li>\n",
    "<li>Lasso uses $Coordinate$ $descent$ $algorithm$ to fit the parameters</li>\n",
    "<li>lasso_path</li>\n",
    "     \n",
    "\n",
    "<li>Why Lasso?<ol>If data of high dimensionality, then to reduce the no. of dimension i.e. feature selection </ol></li>"
   ]
  },
  {
   "cell_type": "markdown",
   "metadata": {},
   "source": [
    "# Multitask Lasso Regression\n",
    "\n",
    "<li> Estimates sparse coefficients for multiple problem</li>\n",
    "<li> Selected feature is same for all the task</li>\n",
    "<li> Cost function<ol>$min_{\\substack{w}}$ $\\frac{1}{2n_{samples}}$ $||XW-Y||^{2}_{Fro}$ +  $\\alpha||W||_{21}$</ol><ol>$||A||_{Fro}$ $=$ $\\sqrt{\\sum_{\\substack{ij}}a_{ij}^{2}}$ </ol></li>\n",
    "<li></li>"
   ]
  },
  {
   "cell_type": "markdown",
   "metadata": {},
   "source": [
    "### Lasso Regression"
   ]
  },
  {
   "cell_type": "code",
   "execution_count": 15,
   "metadata": {},
   "outputs": [
    {
     "name": "stdout",
     "output_type": "stream",
     "text": [
      "\n",
      "Done(*_*)\n"
     ]
    }
   ],
   "source": [
    "import numpy as np\n",
    "import matplotlib.pyplot as plt\n",
    "\n",
    "from sklearn.datasets import load_diabetes\n",
    "from sklearn.preprocessing import normalize\n",
    "\n",
    "s = \"\\nDone(*_*)\"\n",
    "print(s)"
   ]
  },
  {
   "cell_type": "markdown",
   "metadata": {},
   "source": [
    "### Loading data "
   ]
  },
  {
   "cell_type": "code",
   "execution_count": 3,
   "metadata": {},
   "outputs": [
    {
     "name": "stdout",
     "output_type": "stream",
     "text": [
      "\n",
      "Done(*_*)\n"
     ]
    }
   ],
   "source": [
    "data = load_diabetes()\n",
    "\n",
    "print(s)"
   ]
  },
  {
   "cell_type": "markdown",
   "metadata": {},
   "source": [
    "### Description of data"
   ]
  },
  {
   "cell_type": "code",
   "execution_count": 104,
   "metadata": {},
   "outputs": [
    {
     "name": "stdout",
     "output_type": "stream",
     "text": [
      "Diabetes dataset\n",
      "================\n",
      "\n",
      "Notes\n",
      "-----\n",
      "\n",
      "Ten baseline variables, age, sex, body mass index, average blood\n",
      "pressure, and six blood serum measurements were obtained for each of n =\n",
      "442 diabetes patients, as well as the response of interest, a\n",
      "quantitative measure of disease progression one year after baseline.\n",
      "\n",
      "Data Set Characteristics:\n",
      "\n",
      "  :Number of Instances: 442\n",
      "\n",
      "  :Number of Attributes: First 10 columns are numeric predictive values\n",
      "\n",
      "  :Target: Column 11 is a quantitative measure of disease progression one year after baseline\n",
      "\n",
      "  :Attributes:\n",
      "    :Age:\n",
      "    :Sex:\n",
      "    :Body mass index:\n",
      "    :Average blood pressure:\n",
      "    :S1:\n",
      "    :S2:\n",
      "    :S3:\n",
      "    :S4:\n",
      "    :S5:\n",
      "    :S6:\n",
      "\n",
      "Note: Each of these 10 feature variables have been mean centered and scaled by the standard deviation times `n_samples` (i.e. the sum of squares of each column totals 1).\n",
      "\n",
      "Source URL:\n",
      "http://www4.stat.ncsu.edu/~boos/var.select/diabetes.html\n",
      "\n",
      "For more information see:\n",
      "Bradley Efron, Trevor Hastie, Iain Johnstone and Robert Tibshirani (2004) \"Least Angle Regression,\" Annals of Statistics (with discussion), 407-499.\n",
      "(http://web.stanford.edu/~hastie/Papers/LARS/LeastAngle_2002.pdf)\n",
      "\n",
      "['age', 'sex', 'bmi', 'bp', 's1', 's2', 's3', 's4', 's5', 's6']\n",
      "\n",
      "Done(*_*)\n"
     ]
    }
   ],
   "source": [
    "print(data.DESCR)\n",
    "print(data.feature_names)\n",
    "\n",
    "print(s)"
   ]
  },
  {
   "cell_type": "markdown",
   "metadata": {},
   "source": [
    "### Analysing dataset\n",
    "\n"
   ]
  },
  {
   "cell_type": "markdown",
   "metadata": {},
   "source": [
    "<li> Variance-Covariance matrix</li>\n",
    "<li></li>"
   ]
  },
  {
   "cell_type": "markdown",
   "metadata": {},
   "source": [
    "#### Covariance Matrix\n",
    "\n",
    "As there are 10 features and 1 target variable so variance-covariance size will be\n",
    "$11*11$"
   ]
  },
  {
   "cell_type": "code",
   "execution_count": 20,
   "metadata": {},
   "outputs": [
    {
     "name": "stdout",
     "output_type": "stream",
     "text": [
      "\n",
      "Done(*_*)\n"
     ]
    }
   ],
   "source": [
    "# covariance matrix along with target \n",
    "cov_mat = np.cov(np.append(data.data,data.target[:,np.newaxis],axis=1).T)\n",
    "\n",
    "# covariance matrix without target\n",
    "cov_mat = np.cov(data.data.T)\n",
    "\n",
    "\n",
    "#print(cov_mat)\n",
    "print(s)"
   ]
  },
  {
   "cell_type": "markdown",
   "metadata": {},
   "source": [
    "#### Plotting variance-covariance matrix"
   ]
  },
  {
   "cell_type": "code",
   "execution_count": 30,
   "metadata": {},
   "outputs": [
    {
     "data": {
      "image/png": "[encoded data removed]",
      "text/plain": [
       "<matplotlib.figure.Figure at 0x1880125d358>"
      ]
     },
     "metadata": {},
     "output_type": "display_data"
    }
   ],
   "source": [
    "plt.imshow(normalize(cov_mat),interpolation=\"nearest\",cmap=plt.cm.Blues)\n",
    "plt.colorbar()\n",
    "plt.xlabel(\"Features\")\n",
    "plt.ylabel(\"Features\")\n",
    "plt.xticks(np.arange(10),data.feature_names)\n",
    "plt.yticks(np.arange(10),data.feature_names)\n",
    "plt.show()"
   ]
  },
  {
   "cell_type": "markdown",
   "metadata": {
    "collapsed": true
   },
   "source": [
    "Conclusion from above plot:\n",
    "<li> Diagonal line shows the variance of features</li>\n",
    "<li> Rest all is covariance between different features</li>\n",
    "\n"
   ]
  },
  {
   "cell_type": "code",
   "execution_count": null,
   "metadata": {
    "collapsed": true
   },
   "outputs": [],
   "source": []
  },
  {
   "cell_type": "markdown",
   "metadata": {},
   "source": [
    "## Example - Lasso and Elastic Net for Sparse Signals"
   ]
  },
  {
   "cell_type": "code",
   "execution_count": 56,
   "metadata": {},
   "outputs": [
    {
     "name": "stdout",
     "output_type": "stream",
     "text": [
      "\n",
      "Done(*_*)\n"
     ]
    }
   ],
   "source": [
    "import numpy as np\n",
    "import matplotlib.pyplot as plt\n",
    "\n",
    "from sklearn.linear_model import Lasso\n",
    "from sklearn.metrics import r2_score,mean_squared_error\n",
    "from sklearn.linear_model import ElasticNet\n",
    "\n",
    "s = \"\\nDone(*_*)\"\n",
    "print(s)\n"
   ]
  },
  {
   "cell_type": "markdown",
   "metadata": {},
   "source": [
    "### Data generation"
   ]
  },
  {
   "cell_type": "code",
   "execution_count": 98,
   "metadata": {},
   "outputs": [
    {
     "name": "stdout",
     "output_type": "stream",
     "text": [
      "\n",
      "Done(*_*)\n"
     ]
    }
   ],
   "source": [
    "np.random.seed(42)\n",
    "\n",
    "n_samples,n_features = 50,200\n",
    "X = np.random.randn(n_samples,n_features)\n",
    "coefs = 3*np.random.randn(n_features)\n",
    "idx = np.arange(n_features)\n",
    "np.random.shuffle(idx)\n",
    "coefs[idx[10:]] = 0\n",
    "y = np.dot(X,coefs)\n",
    "#print(y)\n",
    "y += .01*np.random.normal(n_samples)\n",
    "\n",
    "\n",
    "## Splitting data in test and train set\n",
    "X_train,y_train = X[:n_samples//2],y[:n_samples//2]\n",
    "X_test,y_test = X[n_samples//2:],y[n_samples//2:]\n",
    "\n",
    "\n",
    "\n",
    "\n",
    "#print(y)\n",
    "#print(idx)\n",
    "#print(coefs)\n",
    "\n",
    "\n",
    "print(s)"
   ]
  },
  {
   "cell_type": "code",
   "execution_count": 64,
   "metadata": {},
   "outputs": [
    {
     "name": "stdout",
     "output_type": "stream",
     "text": [
      "r2_score:0.242944402425\n",
      "mse: 63.6381206309\n"
     ]
    }
   ],
   "source": [
    "# Lasso Model\n",
    "lasso_model = Lasso()\n",
    "lasso_model.fit(X_train,y_train)\n",
    "y_pred = lasso_model.predict(X_test)\n",
    "\n",
    "# R^2 Score and mean squared erro\n",
    "r2score_lasso = r2_score(y_test,y_pred)\n",
    "\n",
    "mse_lasso = mean_squared_error(y_test,y_pred)\n",
    "\n",
    "print(\"r2_score:\"+str(r2score_lasso))\n",
    "print(\"mse: \"+str(mse_lasso))\n",
    "\n"
   ]
  },
  {
   "cell_type": "code",
   "execution_count": 65,
   "metadata": {},
   "outputs": [
    {
     "name": "stdout",
     "output_type": "stream",
     "text": [
      "r2_score:0.105644221289\n",
      "mse: 75.1795787719\n",
      "\n",
      "Done(*_*)\n"
     ]
    }
   ],
   "source": [
    "# ElasticNet\n",
    "enet_model = ElasticNet()\n",
    "enet_model = enet_model.fit(X_train,y_train)\n",
    "\n",
    "y_pred = enet_model.predict(X_test)\n",
    "# R^2 score and mean squared error\n",
    "r2score_enet = r2_score(y_test,y_pred)\n",
    "mse_enet = mean_squared_error(y_test,y_pred)\n",
    "\n",
    "print(\"r2_score:\"+str(r2score_enet))\n",
    "print(\"mse: \"+str(mse_enet))\n",
    "\n",
    "print(s)"
   ]
  },
  {
   "cell_type": "markdown",
   "metadata": {},
   "source": [
    "### Plotting coefficients of both model"
   ]
  },
  {
   "cell_type": "code",
   "execution_count": 102,
   "metadata": {},
   "outputs": [
    {
     "data": {
      "image/png": "[encoded data removed]",
      "text/plain": [
       "<matplotlib.figure.Figure at 0x1880125d780>"
      ]
     },
     "metadata": {},
     "output_type": "display_data"
    },
    {
     "data": {
      "image/png": "[encoded data removed]",
      "text/plain": [
       "<matplotlib.figure.Figure at 0x1880106ae80>"
      ]
     },
     "metadata": {},
     "output_type": "display_data"
    }
   ],
   "source": [
    "\n",
    "plt.plot(coefs,label=\"Original Constraints\",color='b')\n",
    "plt.plot(lasso_model.coef_,label=\"Lasso\",color='r')\n",
    "plt.legend()\n",
    "plt.show()\n",
    "plt.plot(coefs,label=\"Original Constraints\",color='b')\n",
    "plt.plot(enet_model.coef_,label=\"ElasticNet\",color='r')\n",
    "plt.legend()\n",
    "plt.show()"
   ]
  },
  {
   "cell_type": "markdown",
   "metadata": {},
   "source": [
    "<li> From first plot it is clear that lasso regression learnt the sparse coefficients, which are    more in no. than original no. of coefficients because of noise that we have added.</li>\n",
    "<li>But point to note here is that, Lasso didn't put constraint on the weight for limiting the dominance of feature.</li>\n",
    "<li>To obtain best of both model, we use ElasticNet model. which is clear from the plot 2,</li>\n",
    "<li>From plot we can see, weights or coefficients are again sparse because of Lasso,but it also limits the dominance of feature because Rige part. </li>\n"
   ]
  },
  {
   "cell_type": "markdown",
   "metadata": {},
   "source": [
    "# Compressive sensing: tomography reconstruction with L1 prior (Lasso)"
   ]
  },
  {
   "cell_type": "code",
   "execution_count": null,
   "metadata": {
    "collapsed": true
   },
   "outputs": [],
   "source": []
  },
  {
   "cell_type": "markdown",
   "metadata": {
    "collapsed": true
   },
   "source": [
    "# Joint Feature Selection with MultiTaskLasso"
   ]
  },
  {
   "cell_type": "markdown",
   "metadata": {},
   "source": [
    "#### Import Statements"
   ]
  },
  {
   "cell_type": "code",
   "execution_count": 105,
   "metadata": {},
   "outputs": [
    {
     "name": "stdout",
     "output_type": "stream",
     "text": [
      "\n",
      "Done(*_*)\n"
     ]
    }
   ],
   "source": [
    "import numpy as np\n",
    "import matplotlib.pyplot as plt\n",
    "\n",
    "from sklearn.linear_model import MultiTaskLasso, Lasso\n",
    "\n",
    "print(s)"
   ]
  },
  {
   "cell_type": "markdown",
   "metadata": {
    "collapsed": true
   },
   "source": [
    "#### Generating datasets for training"
   ]
  },
  {
   "cell_type": "code",
   "execution_count": 121,
   "metadata": {},
   "outputs": [
    {
     "name": "stdout",
     "output_type": "stream",
     "text": [
      "\n",
      "Done(*_*)\n"
     ]
    }
   ],
   "source": [
    "np.random.seed(42)\n",
    "\n",
    "n_samples,n_features,n_tasks = 200,50,5\n",
    "n_relevant_features = 5\n",
    "\n",
    "X = np.random.randn(n_samples,n_features)\n",
    "coeff_ = np.zeros((n_tasks,n_features))\n",
    "\n",
    "times = np.linspace(0, 2 * np.pi, n_tasks)\n",
    "for k in range(n_relevant_features):\n",
    "    coeff_[:, k] = np.sin((1. + np.random.randn(1)) * times + 3 * np.random.randn(1))\n",
    "\n",
    "Y = np.dot(X,coeff_.T)\n",
    "\n",
    "lasso_models = [Lasso().fit(X,Y[:,i])for i in range(n_relevant_features)]\n",
    "multitasklasso = MultiTaskLasso().fit(X,Y)\n",
    "\n",
    "\n",
    "#print(lasso_models)\n",
    "#print(Y)\n",
    "#print(coeff_)\n",
    "print(s)"
   ]
  },
  {
   "cell_type": "markdown",
   "metadata": {},
   "source": [
    "#### Plotting "
   ]
  },
  {
   "cell_type": "code",
   "execution_count": 123,
   "metadata": {},
   "outputs": [
    {
     "data": {
      "image/png": "[encoded data removed]",
      "text/plain": [
       "<matplotlib.figure.Figure at 0x1887fe56240>"
      ]
     },
     "metadata": {},
     "output_type": "display_data"
    }
   ],
   "source": [
    "plt.plot(coeff_[:,0])\n",
    "plt.show()"
   ]
  },
  {
   "cell_type": "code",
   "execution_count": null,
   "metadata": {
    "collapsed": true
   },
   "outputs": [],
   "source": []
  },
  {
   "cell_type": "markdown",
   "metadata": {
    "collapsed": true
   },
   "source": [
    "## Testing "
   ]
  },
  {
   "cell_type": "code",
   "execution_count": null,
   "metadata": {
    "collapsed": true
   },
   "outputs": [],
   "source": [
    "## Appending matrix\n",
    "a = np.array([[1,2,3],[4,5,6]])\n",
    "#print(np.cov(data.data.T))\n",
    "print(data.data.shape)\n",
    "print(data.target.shape)\n",
    "print(data.target[:,np.newaxis].shape)\n",
    "print(np.append(data.data,data.target[:,np.newaxis],axis=1).shape)"
   ]
  },
  {
   "cell_type": "code",
   "execution_count": null,
   "metadata": {
    "collapsed": true
   },
   "outputs": [],
   "source": [
    "## plotting matrix\n",
    "#print(\"max\"+\" : \"+str(max(cov_mat*1000)))\n",
    "#print(\"min\"+\" : \"+str(min(cov_mat*1000)))\n",
    "print(np.max(cov_mat))\n",
    "print(np.min(cov_mat))\n",
    "print(cov_mat.shape)\n",
    "print(s)\n",
    "print(normalize(cov_mat))"
   ]
  }
 ],
 "metadata": {
  "kernelspec": {
   "display_name": "Python 3",
   "language": "python",
   "name": "python3"
  },
  "language_info": {
   "codemirror_mode": {
    "name": "ipython",
    "version": 3
   },
   "file_extension": ".py",
   "mimetype": "text/x-python",
   "name": "python",
   "nbconvert_exporter": "python",
   "pygments_lexer": "ipython3",
   "version": "3.6.3"
  }
 },
 "nbformat": 4,
 "nbformat_minor": 2
}
