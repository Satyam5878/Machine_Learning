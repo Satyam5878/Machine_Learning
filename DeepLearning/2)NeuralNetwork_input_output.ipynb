{
 "cells": [
  {
   "cell_type": "markdown",
   "metadata": {},
   "source": [
    "## How to represent the input and weight matrix of NN"
   ]
  },
  {
   "cell_type": "markdown",
   "metadata": {},
   "source": [
    "Let say input vector be:<img src=\"InputVector.gif\">\n",
    "and Weight matrix between layer k and k+1 is:<img src=\"WeightMatrix.gif\">\n",
    "##### where n is no. of features\n",
    "#####            k is layer no.\n",
    "#####            l is the no. of neuron in layer k+1\n",
    "#####          Wij is weight between ith input and jth neuron of k+1th layer"
   ]
  }
 ],
 "metadata": {
  "kernelspec": {
   "display_name": "Python 3",
   "language": "python",
   "name": "python3"
  },
  "language_info": {
   "codemirror_mode": {
    "name": "ipython",
    "version": 3
   },
   "file_extension": ".py",
   "mimetype": "text/x-python",
   "name": "python",
   "nbconvert_exporter": "python",
   "pygments_lexer": "ipython3",
   "version": "3.6.3"
  }
 },
 "nbformat": 4,
 "nbformat_minor": 2
}
